{
 "cells": [
  {
   "cell_type": "markdown",
   "metadata": {},
   "source": [
    "<a id=\"section_ID\"></a>"
   ]
  },
  {
   "cell_type": "markdown",
   "metadata": {},
   "source": [
    "# Jupyter Lab Notebook <br> Cheatsheet"
   ]
  },
  {
   "cell_type": "markdown",
   "metadata": {},
   "source": [
    "Headings\n",
    "# title\n",
    "## major headings\n",
    "### subheadings\n",
    "#### 4th level subheadings"
   ]
  },
  {
   "cell_type": "markdown",
   "metadata": {},
   "source": [
    "# title\n",
    "## major headings\n",
    "### subheadings\n",
    "#### 4th level subheadings"
   ]
  },
  {
   "cell_type": "markdown",
   "metadata": {},
   "source": [
    "Empashis\n",
    "Bold: __string__ or **string**\n",
    "Italic: _string_ or *string*"
   ]
  },
  {
   "cell_type": "markdown",
   "metadata": {},
   "source": [
    "Empashis <br>\n",
    "Bold: __string__ or **string** <br>\n",
    "Italic: _string_ or *string*"
   ]
  },
  {
   "cell_type": "markdown",
   "metadata": {},
   "source": [
    "Mathematical symbols\n",
    "$ mathematical symbols $\n"
   ]
  },
  {
   "cell_type": "markdown",
   "metadata": {},
   "source": [
    "Mathematical symbols <br>\n",
    "$ mathematical symbols $"
   ]
  },
  {
   "cell_type": "markdown",
   "metadata": {},
   "source": [
    "Monospace font\n",
    "`single quotation mark`\n"
   ]
  },
  {
   "cell_type": "markdown",
   "metadata": {},
   "source": [
    "Monospace font <br> `c:\\path\\thisisfilepath\\names.txt`"
   ]
  },
  {
   "cell_type": "markdown",
   "metadata": {},
   "source": [
    "Line breaks\n",
    "<br>"
   ]
  },
  {
   "cell_type": "markdown",
   "metadata": {},
   "source": [
    "This <br> is <br> a 3 <br> line break."
   ]
  },
  {
   "cell_type": "markdown",
   "metadata": {},
   "source": [
    "Colors\n",
    "<font color=blue|red|green|pink|yellow>text</font>"
   ]
  },
  {
   "cell_type": "markdown",
   "metadata": {},
   "source": [
    "Colors\n",
    "<font color=blue>Hey como estas?</font>"
   ]
  },
  {
   "cell_type": "markdown",
   "metadata": {},
   "source": [
    "Indenting\n",
    "> Stuff"
   ]
  },
  {
   "cell_type": "markdown",
   "metadata": {},
   "source": [
    "Indenting\n",
    "> Stuff"
   ]
  },
  {
   "cell_type": "markdown",
   "metadata": {},
   "source": [
    "Bullets\n",
    "-  This is a bullet with dash and two spaces\n",
    " - This is a bullet with space dash space\n",
    "* This is a bullet with asterisk\n",
    "    -  This is a bullet with tab dash space space"
   ]
  },
  {
   "cell_type": "markdown",
   "metadata": {},
   "source": [
    "Bullets\n",
    "-  This is a bullet with dash and two spaces\n",
    " - This is a bullet with space dash space\n",
    "* This is a bullet with asterisk\n",
    "    -  This is a bullet with tab dash space space"
   ]
  },
  {
   "cell_type": "markdown",
   "metadata": {},
   "source": [
    "Numbered lists\n",
    "1. This is number one.\n",
    "2. This is number two.\n",
    "3. This is number three.\n",
    "    4. This is number four with tab.\n",
    "        5. This is number five with tab tab.\n",
    "            6. This is number six with tab tab tab."
   ]
  },
  {
   "cell_type": "markdown",
   "metadata": {},
   "source": [
    "Numbered lists\n",
    "1. This is number one.\n",
    "2. This is number two.\n",
    "3. This is number three.\n",
    "    4. This is number four with tab.\n",
    "        5. This is number five with tab tab.\n",
    "            6. This is number six with tab tab tab."
   ]
  },
  {
   "cell_type": "markdown",
   "metadata": {},
   "source": [
    "Graphics\n",
    "Need to research further..."
   ]
  },
  {
   "cell_type": "markdown",
   "metadata": {},
   "source": [
    "Geometric shapes\n",
    "$#\n",
    "Need to research further..."
   ]
  },
  {
   "cell_type": "markdown",
   "metadata": {},
   "source": [
    "Horizontal lines\n",
    "***"
   ]
  },
  {
   "cell_type": "markdown",
   "metadata": {},
   "source": [
    "Horizontal lines\n",
    "***"
   ]
  },
  {
   "cell_type": "markdown",
   "metadata": {},
   "source": [
    "Internal links\n",
    "[section title] (#section-title)\n",
    "Need to research further..."
   ]
  },
  {
   "cell_type": "markdown",
   "metadata": {},
   "source": [
    "[section title](#section_ID)"
   ]
  },
  {
   "cell_type": "markdown",
   "metadata": {},
   "source": [
    "External links\n",
    "_[link text] (http://www.google.com)_"
   ]
  },
  {
   "cell_type": "markdown",
   "metadata": {},
   "source": [
    "External link <br>\n",
    "_[link text] (http://www.google.com)_"
   ]
  }
 ],
 "metadata": {
  "kernelspec": {
   "display_name": "Python 3",
   "language": "python",
   "name": "python3"
  },
  "language_info": {
   "codemirror_mode": {
    "name": "ipython",
    "version": 3
   },
   "file_extension": ".py",
   "mimetype": "text/x-python",
   "name": "python",
   "nbconvert_exporter": "python",
   "pygments_lexer": "ipython3",
   "version": "3.6.5"
  }
 },
 "nbformat": 4,
 "nbformat_minor": 2
}
