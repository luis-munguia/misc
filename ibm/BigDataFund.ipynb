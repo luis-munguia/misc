{
 "cells": [
  {
   "cell_type": "markdown",
   "metadata": {},
   "source": [
    "# Big Data 101 -- Cognitive Class -- Luis Munguia"
   ]
  },
  {
   "cell_type": "markdown",
   "metadata": {},
   "source": [
    "# BD101EN"
   ]
  },
  {
   "cell_type": "markdown",
   "metadata": {},
   "source": [
    "***"
   ]
  },
  {
   "cell_type": "markdown",
   "metadata": {},
   "source": [
    "## Introduction to Big Data"
   ]
  },
  {
   "cell_type": "markdown",
   "metadata": {},
   "source": [
    "Is the digital trace we leave behind for everything we do that can be analyzed to become smarter.\n",
    "\n",
    "Velocity, Volume, Veracity, Variety and VALUE!\n",
    "\n",
    "\n",
    "Veracity: 80% of data is considered to be unstructured.\n",
    "\n",
    "Big Data will fundamentally change the way business compete and operate.\n",
    "\n",
    "Scalable infraestructure.\n",
    "\n",
    "10 million blu rays.\n",
    "\n",
    "Profit, benefits."
   ]
  }
 ],
 "metadata": {
  "kernelspec": {
   "display_name": "Python 3",
   "language": "python",
   "name": "python3"
  },
  "language_info": {
   "codemirror_mode": {
    "name": "ipython",
    "version": 3
   },
   "file_extension": ".py",
   "mimetype": "text/x-python",
   "name": "python",
   "nbconvert_exporter": "python",
   "pygments_lexer": "ipython3",
   "version": "3.6.5"
  }
 },
 "nbformat": 4,
 "nbformat_minor": 2
}
