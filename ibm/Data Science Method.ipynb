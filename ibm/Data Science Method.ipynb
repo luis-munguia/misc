{
 "cells": [
  {
   "cell_type": "markdown",
   "metadata": {},
   "source": [
    "# John Rollins from IBM Data Science Methodology"
   ]
  },
  {
   "cell_type": "markdown",
   "metadata": {},
   "source": [
    "***"
   ]
  },
  {
   "cell_type": "markdown",
   "metadata": {},
   "source": [
    "### **From problem to approach:**\n",
    "### 1.- What is the problem that you are trying to solve?\n",
    "### 2.- How can you use data to answer the question?"
   ]
  },
  {
   "cell_type": "markdown",
   "metadata": {},
   "source": [
    "### **Working with the data:**\n",
    "### 3.- What data do you need to answer the question?\n",
    "### 4.- Where is the data coming from (identify all sources) and how will you get it?\n",
    "### 5.- Is the data that you collected representative of the problem to be solved?\n",
    "### 6.- What additional work is required to manipulate and work with the data?"
   ]
  },
  {
   "cell_type": "markdown",
   "metadata": {},
   "source": [
    "### **Deriving the answer:**\n",
    "### 7.- In what way can the data be visualized to get to the answer that is required?\n",
    "### 8.- Does the model used really answer the initial question or does it need to be adjusted?\n",
    "### 9.- Can you put the model into practice?\n",
    "### 10.- Can you get constructive feedback into answering the question?"
   ]
  },
  {
   "cell_type": "markdown",
   "metadata": {},
   "source": [
    "***"
   ]
  },
  {
   "cell_type": "markdown",
   "metadata": {},
   "source": [
    "A methodology is a system of methods used in a particular area of study or activity.\n",
    "The data science methodoloty described in this course is outlined by John Rollins from IBM.\n",
    "The first stage of the data science methodology is business understanding."
   ]
  },
  {
   "cell_type": "code",
   "execution_count": null,
   "metadata": {},
   "outputs": [],
   "source": []
  }
 ],
 "metadata": {
  "kernelspec": {
   "display_name": "Python 3",
   "language": "python",
   "name": "python3"
  },
  "language_info": {
   "codemirror_mode": {
    "name": "ipython",
    "version": 3
   },
   "file_extension": ".py",
   "mimetype": "text/x-python",
   "name": "python",
   "nbconvert_exporter": "python",
   "pygments_lexer": "ipython3",
   "version": "3.6.5"
  }
 },
 "nbformat": 4,
 "nbformat_minor": 2
}
