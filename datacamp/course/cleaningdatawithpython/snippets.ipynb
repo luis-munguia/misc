{
 "cells": [
  {
   "cell_type": "markdown",
   "metadata": {},
   "source": [
    "# Datacamp Personal Takeaways \n",
    "## Cleaning Data With Python\n",
    "***"
   ]
  },
  {
   "cell_type": "markdown",
   "metadata": {},
   "source": [
    "## 1.- Exploring your data.\n",
    "Use pandas to review shape and current status of data."
   ]
  },
  {
   "cell_type": "markdown",
   "metadata": {},
   "source": [
    "```python\n",
    "# Import libraries needed\n",
    "import pandas as pd\n",
    "\n",
    "df.head()\n",
    "df.tail()\n",
    "df.shape\n",
    "df.columns\n",
    "df.info()\n",
    "# If column name is not strange, can use dot notation.\n",
    "df.columnname.value_counts()\n",
    "# See statistic info from dataset.\n",
    "df.columnname.describe()\n",
    "\n",
    "df.columnname.plot(kind=\"hist\")\n",
    "df.boxplot(column =\"columnname1\", by= \"columnname2\")\n",
    "df.plot(kind= \"scatter\", x=\"columnname1\", y=\"columname2\")\n",
    "```"
   ]
  },
  {
   "cell_type": "markdown",
   "metadata": {},
   "source": [
    "## 2.- Tidying data for analysis.\n",
    "Use Hadley Wickham's tidy data concept: \n",
    "1. Each variable forms a column.\n",
    "2. Each observation forms a row.\n",
    "3. Each type of observational unit forms a table.\n",
    "\n",
    "**Remember!**\n",
    "\n",
    "This is for data cleaning, not for data viz!"
   ]
  },
  {
   "cell_type": "markdown",
   "metadata": {},
   "source": [
    "### Using melt.\n",
    "```python\n",
    "# Melt airquality: airquality_melt\n",
    "airquality_melt = pd.melt(airquality, id_vars='Date', var_name=\"measurement\", value_name=\"reading\")\n",
    "```"
   ]
  },
  {
   "cell_type": "markdown",
   "metadata": {},
   "source": [
    "### Using pivot.\n",
    "```python\n",
    "# Pivot airquality_melt: airquality_pivot\n",
    "airquality_pivot = airquality_melt.pivot(index=\"Date\", columns=\"measurement\", values=\"reading\")\n",
    "```"
   ]
  },
  {
   "cell_type": "markdown",
   "metadata": {},
   "source": [
    "### Reset index after pivot.\n",
    "```python\n",
    "# Reset the index of airquality_pivot: airquality_pivot_reset\n",
    "airquality_pivot_reset = airquality_pivot.reset_index()\n",
    "```"
   ]
  },
  {
   "cell_type": "markdown",
   "metadata": {},
   "source": [
    "### Pivot duplicate values.\n",
    "```python\n",
    "# Pivot table the airquality_dup: airquality_pivot\n",
    "airquality_pivot = airquality_dup.pivot_table(index=\"Date\", columns=\"measurement\", values=\"reading\", aggfunc=np.mean)\n",
    "\n",
    "# Reset the index of airquality_pivot\n",
    "airquality_pivot = airquality_pivot.reset_index()\n",
    "```"
   ]
  },
  {
   "cell_type": "markdown",
   "metadata": {},
   "source": [
    "### Creating new columns with string slicing.\n",
    "```python\n",
    "# Create the 'gender' column\n",
    "tb_melt['gender'] = tb_melt.variable.str[0]\n",
    "\n",
    "# Create the 'age_group' column\n",
    "tb_melt['age_group'] = tb_melt.variable.str[1:]\n",
    "```"
   ]
  },
  {
   "cell_type": "markdown",
   "metadata": {},
   "source": [
    "### Creating new columns with string splitting.\n",
    "```python\n",
    "# Create the 'str_split' column\n",
    "ebola_melt['str_split'] = ebola_melt[\"type_country\"].str.split(\"_\")\n",
    "\n",
    "# Create the 'type' column\n",
    "ebola_melt['type'] = ebola_melt[\"str_split\"].str.get(0)\n",
    "\n",
    "# Create the 'country' column\n",
    "ebola_melt['country'] = ebola_melt[\"str_split\"].str.get(1)\n",
    "```"
   ]
  },
  {
   "cell_type": "code",
   "execution_count": null,
   "metadata": {},
   "outputs": [],
   "source": []
  }
 ],
 "metadata": {
  "kernelspec": {
   "display_name": "Python 3",
   "language": "python",
   "name": "python3"
  },
  "language_info": {
   "codemirror_mode": {
    "name": "ipython",
    "version": 3
   },
   "file_extension": ".py",
   "mimetype": "text/x-python",
   "name": "python",
   "nbconvert_exporter": "python",
   "pygments_lexer": "ipython3",
   "version": "3.7.4"
  }
 },
 "nbformat": 4,
 "nbformat_minor": 4
}
