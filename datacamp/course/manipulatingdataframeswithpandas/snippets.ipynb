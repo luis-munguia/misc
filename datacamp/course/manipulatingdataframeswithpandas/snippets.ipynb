{
 "cells": [
  {
   "cell_type": "markdown",
   "metadata": {},
   "source": [
    "# Datacamp Personal Takeaways \n",
    "## Manipulating Dataframes with pandas  by Dhavide Aruliah\n",
    "***"
   ]
  },
  {
   "cell_type": "markdown",
   "metadata": {},
   "source": [
    "## 1.- Extracting and transforming data.\n",
    "Use pandas to review shape and current status of data.\n",
    "\n",
    "### No relevant new info!"
   ]
  },
  {
   "cell_type": "markdown",
   "metadata": {},
   "source": [
    "## 2.- Advance indexing.\n",
    "Use pandas to review shape and current status of data.\n",
    "\n",
    "### No relevant new info!"
   ]
  },
  {
   "cell_type": "markdown",
   "metadata": {},
   "source": [
    "## 3.- Rearranging and reshaping data.\n",
    "Use pandas to review shape and current status of data.\n",
    "\n",
    "### No relevant new info!"
   ]
  },
  {
   "cell_type": "markdown",
   "metadata": {},
   "source": [
    "## 4.- Grouping data.\n",
    "Use pandas to review shape and current status of data.\n",
    "\n",
    "### No relevant new info!"
   ]
  },
  {
   "cell_type": "markdown",
   "metadata": {},
   "source": [
    "## 5.- Case study - Summer Olympics.\n",
    "Use pandas to review shape and current status of data.\n",
    "\n",
    "### No relevant new info!"
   ]
  }
 ],
 "metadata": {
  "kernelspec": {
   "display_name": "Python 3",
   "language": "python",
   "name": "python3"
  },
  "language_info": {
   "codemirror_mode": {
    "name": "ipython",
    "version": 3
   },
   "file_extension": ".py",
   "mimetype": "text/x-python",
   "name": "python",
   "nbconvert_exporter": "python",
   "pygments_lexer": "ipython3",
   "version": "3.7.4"
  }
 },
 "nbformat": 4,
 "nbformat_minor": 4
}
