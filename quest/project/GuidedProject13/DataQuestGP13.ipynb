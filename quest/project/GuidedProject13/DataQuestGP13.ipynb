{
 "cells": [
  {
   "cell_type": "markdown",
   "metadata": {},
   "source": [
    "# Guided Project #13 - Finding the Best Markets to Advertise In\n",
    "By [Luis Munguia](http://www.linkedin.com/in/luis-munguia) and [Dataquest](http://www.dataquest.io)\n",
    "\n",
    "In this guided project, I'll perform practical data analysis such as:\n",
    "\n",
    "* Determine the statistical properties of distributions.\n",
    "* How the mean, median and mode relate to each other.\n",
    "* Measure the variability of a distribution using the range, the mean absolute deviation, the variance and standard deviation.\n",
    "* Locate any value in a distribution using z-scores.\n",
    "\n",
    "The dataset is from a fictional e-learning company that offers courses on programming and other domains. Most of the courses are on **web and mobile development.** The goal is to find out the two best markets to advertise it's products as they would like to promote them and invest in adversisement.\n",
    "\n",
    "Organizing surveys for a different markets could be very costly, so it's a better to explore cheaper or free options. One such option comes from \"freeCodeCamp\": they made a new coder survey in the year 2017. \n",
    "\n",
    "The data is publicly available in this GitHub [repository](https://github.com/freeCodeCamp/2017-new-coder-survey)."
   ]
  },
  {
   "cell_type": "markdown",
   "metadata": {},
   "source": [
    "## 1.- Library and Jupyter setup.\n",
    "Import `pandas` and do exploratory data analysis."
   ]
  },
  {
   "cell_type": "code",
   "execution_count": 1,
   "metadata": {
    "collapsed": false
   },
   "outputs": [
    {
     "data": {
      "text/plain": [
       "(18175, 136)"
      ]
     },
     "execution_count": 1,
     "metadata": {},
     "output_type": "execute_result"
    }
   ],
   "source": [
    "import pandas as pd\n",
    "\n",
    "# Use low_memory as it seems that the csv file is quite large.\n",
    "survey = pd.read_csv('2017-fCC-New-Coders-Survey-Data.csv', low_memory=False)\n",
    "survey.shape"
   ]
  },
  {
   "cell_type": "code",
   "execution_count": 2,
   "metadata": {
    "collapsed": false
   },
   "outputs": [
    {
     "data": {
      "text/html": [
       "<div>\n",
       "<style scoped>\n",
       "    .dataframe tbody tr th:only-of-type {\n",
       "        vertical-align: middle;\n",
       "    }\n",
       "\n",
       "    .dataframe tbody tr th {\n",
       "        vertical-align: top;\n",
       "    }\n",
       "\n",
       "    .dataframe thead th {\n",
       "        text-align: right;\n",
       "    }\n",
       "</style>\n",
       "<table border=\"1\" class=\"dataframe\">\n",
       "  <thead>\n",
       "    <tr style=\"text-align: right;\">\n",
       "      <th></th>\n",
       "      <th>Age</th>\n",
       "      <th>AttendedBootcamp</th>\n",
       "      <th>BootcampFinish</th>\n",
       "      <th>BootcampLoanYesNo</th>\n",
       "      <th>BootcampName</th>\n",
       "      <th>BootcampRecommend</th>\n",
       "      <th>ChildrenNumber</th>\n",
       "      <th>CityPopulation</th>\n",
       "      <th>CodeEventConferences</th>\n",
       "      <th>CodeEventDjangoGirls</th>\n",
       "      <th>...</th>\n",
       "      <th>YouTubeFCC</th>\n",
       "      <th>YouTubeFunFunFunction</th>\n",
       "      <th>YouTubeGoogleDev</th>\n",
       "      <th>YouTubeLearnCode</th>\n",
       "      <th>YouTubeLevelUpTuts</th>\n",
       "      <th>YouTubeMIT</th>\n",
       "      <th>YouTubeMozillaHacks</th>\n",
       "      <th>YouTubeOther</th>\n",
       "      <th>YouTubeSimplilearn</th>\n",
       "      <th>YouTubeTheNewBoston</th>\n",
       "    </tr>\n",
       "  </thead>\n",
       "  <tbody>\n",
       "    <tr>\n",
       "      <th>0</th>\n",
       "      <td>27.0</td>\n",
       "      <td>0.0</td>\n",
       "      <td>NaN</td>\n",
       "      <td>NaN</td>\n",
       "      <td>NaN</td>\n",
       "      <td>NaN</td>\n",
       "      <td>NaN</td>\n",
       "      <td>more than 1 million</td>\n",
       "      <td>NaN</td>\n",
       "      <td>NaN</td>\n",
       "      <td>...</td>\n",
       "      <td>NaN</td>\n",
       "      <td>NaN</td>\n",
       "      <td>NaN</td>\n",
       "      <td>NaN</td>\n",
       "      <td>NaN</td>\n",
       "      <td>NaN</td>\n",
       "      <td>NaN</td>\n",
       "      <td>NaN</td>\n",
       "      <td>NaN</td>\n",
       "      <td>NaN</td>\n",
       "    </tr>\n",
       "    <tr>\n",
       "      <th>1</th>\n",
       "      <td>34.0</td>\n",
       "      <td>0.0</td>\n",
       "      <td>NaN</td>\n",
       "      <td>NaN</td>\n",
       "      <td>NaN</td>\n",
       "      <td>NaN</td>\n",
       "      <td>NaN</td>\n",
       "      <td>less than 100,000</td>\n",
       "      <td>NaN</td>\n",
       "      <td>NaN</td>\n",
       "      <td>...</td>\n",
       "      <td>1.0</td>\n",
       "      <td>NaN</td>\n",
       "      <td>NaN</td>\n",
       "      <td>NaN</td>\n",
       "      <td>NaN</td>\n",
       "      <td>NaN</td>\n",
       "      <td>NaN</td>\n",
       "      <td>NaN</td>\n",
       "      <td>NaN</td>\n",
       "      <td>NaN</td>\n",
       "    </tr>\n",
       "    <tr>\n",
       "      <th>2</th>\n",
       "      <td>21.0</td>\n",
       "      <td>0.0</td>\n",
       "      <td>NaN</td>\n",
       "      <td>NaN</td>\n",
       "      <td>NaN</td>\n",
       "      <td>NaN</td>\n",
       "      <td>NaN</td>\n",
       "      <td>more than 1 million</td>\n",
       "      <td>NaN</td>\n",
       "      <td>NaN</td>\n",
       "      <td>...</td>\n",
       "      <td>NaN</td>\n",
       "      <td>NaN</td>\n",
       "      <td>NaN</td>\n",
       "      <td>1.0</td>\n",
       "      <td>1.0</td>\n",
       "      <td>NaN</td>\n",
       "      <td>NaN</td>\n",
       "      <td>NaN</td>\n",
       "      <td>NaN</td>\n",
       "      <td>NaN</td>\n",
       "    </tr>\n",
       "    <tr>\n",
       "      <th>3</th>\n",
       "      <td>26.0</td>\n",
       "      <td>0.0</td>\n",
       "      <td>NaN</td>\n",
       "      <td>NaN</td>\n",
       "      <td>NaN</td>\n",
       "      <td>NaN</td>\n",
       "      <td>NaN</td>\n",
       "      <td>between 100,000 and 1 million</td>\n",
       "      <td>NaN</td>\n",
       "      <td>NaN</td>\n",
       "      <td>...</td>\n",
       "      <td>1.0</td>\n",
       "      <td>1.0</td>\n",
       "      <td>NaN</td>\n",
       "      <td>NaN</td>\n",
       "      <td>1.0</td>\n",
       "      <td>NaN</td>\n",
       "      <td>NaN</td>\n",
       "      <td>NaN</td>\n",
       "      <td>NaN</td>\n",
       "      <td>NaN</td>\n",
       "    </tr>\n",
       "    <tr>\n",
       "      <th>4</th>\n",
       "      <td>20.0</td>\n",
       "      <td>0.0</td>\n",
       "      <td>NaN</td>\n",
       "      <td>NaN</td>\n",
       "      <td>NaN</td>\n",
       "      <td>NaN</td>\n",
       "      <td>NaN</td>\n",
       "      <td>between 100,000 and 1 million</td>\n",
       "      <td>NaN</td>\n",
       "      <td>NaN</td>\n",
       "      <td>...</td>\n",
       "      <td>NaN</td>\n",
       "      <td>NaN</td>\n",
       "      <td>NaN</td>\n",
       "      <td>NaN</td>\n",
       "      <td>NaN</td>\n",
       "      <td>NaN</td>\n",
       "      <td>NaN</td>\n",
       "      <td>NaN</td>\n",
       "      <td>NaN</td>\n",
       "      <td>NaN</td>\n",
       "    </tr>\n",
       "  </tbody>\n",
       "</table>\n",
       "<p>5 rows × 136 columns</p>\n",
       "</div>"
      ],
      "text/plain": [
       "    Age  AttendedBootcamp  BootcampFinish  BootcampLoanYesNo BootcampName  \\\n",
       "0  27.0               0.0             NaN                NaN          NaN   \n",
       "1  34.0               0.0             NaN                NaN          NaN   \n",
       "2  21.0               0.0             NaN                NaN          NaN   \n",
       "3  26.0               0.0             NaN                NaN          NaN   \n",
       "4  20.0               0.0             NaN                NaN          NaN   \n",
       "\n",
       "   BootcampRecommend  ChildrenNumber                 CityPopulation  \\\n",
       "0                NaN             NaN            more than 1 million   \n",
       "1                NaN             NaN              less than 100,000   \n",
       "2                NaN             NaN            more than 1 million   \n",
       "3                NaN             NaN  between 100,000 and 1 million   \n",
       "4                NaN             NaN  between 100,000 and 1 million   \n",
       "\n",
       "   CodeEventConferences  CodeEventDjangoGirls         ...           \\\n",
       "0                   NaN                   NaN         ...            \n",
       "1                   NaN                   NaN         ...            \n",
       "2                   NaN                   NaN         ...            \n",
       "3                   NaN                   NaN         ...            \n",
       "4                   NaN                   NaN         ...            \n",
       "\n",
       "   YouTubeFCC  YouTubeFunFunFunction  YouTubeGoogleDev  YouTubeLearnCode  \\\n",
       "0         NaN                    NaN               NaN               NaN   \n",
       "1         1.0                    NaN               NaN               NaN   \n",
       "2         NaN                    NaN               NaN               1.0   \n",
       "3         1.0                    1.0               NaN               NaN   \n",
       "4         NaN                    NaN               NaN               NaN   \n",
       "\n",
       "   YouTubeLevelUpTuts  YouTubeMIT  YouTubeMozillaHacks YouTubeOther  \\\n",
       "0                 NaN         NaN                  NaN          NaN   \n",
       "1                 NaN         NaN                  NaN          NaN   \n",
       "2                 1.0         NaN                  NaN          NaN   \n",
       "3                 1.0         NaN                  NaN          NaN   \n",
       "4                 NaN         NaN                  NaN          NaN   \n",
       "\n",
       "   YouTubeSimplilearn  YouTubeTheNewBoston  \n",
       "0                 NaN                  NaN  \n",
       "1                 NaN                  NaN  \n",
       "2                 NaN                  NaN  \n",
       "3                 NaN                  NaN  \n",
       "4                 NaN                  NaN  \n",
       "\n",
       "[5 rows x 136 columns]"
      ]
     },
     "execution_count": 2,
     "metadata": {},
     "output_type": "execute_result"
    }
   ],
   "source": [
    "survey.head()"
   ]
  },
  {
   "cell_type": "code",
   "execution_count": 3,
   "metadata": {
    "collapsed": false
   },
   "outputs": [
    {
     "name": "stdout",
     "output_type": "stream",
     "text": [
      "Age\n",
      "AttendedBootcamp\n",
      "BootcampFinish\n",
      "BootcampLoanYesNo\n",
      "BootcampName\n",
      "BootcampRecommend\n",
      "ChildrenNumber\n",
      "CityPopulation\n",
      "CodeEventConferences\n",
      "CodeEventDjangoGirls\n",
      "CodeEventFCC\n",
      "CodeEventGameJam\n",
      "CodeEventGirlDev\n",
      "CodeEventHackathons\n",
      "CodeEventMeetup\n",
      "CodeEventNodeSchool\n",
      "CodeEventNone\n",
      "CodeEventOther\n",
      "CodeEventRailsBridge\n",
      "CodeEventRailsGirls\n",
      "CodeEventStartUpWknd\n",
      "CodeEventWkdBootcamps\n",
      "CodeEventWomenCode\n",
      "CodeEventWorkshops\n",
      "CommuteTime\n",
      "CountryCitizen\n",
      "CountryLive\n",
      "EmploymentField\n",
      "EmploymentFieldOther\n",
      "EmploymentStatus\n",
      "EmploymentStatusOther\n",
      "ExpectedEarning\n",
      "FinanciallySupporting\n",
      "FirstDevJob\n",
      "Gender\n",
      "GenderOther\n",
      "HasChildren\n",
      "HasDebt\n",
      "HasFinancialDependents\n",
      "HasHighSpdInternet\n",
      "HasHomeMortgage\n",
      "HasServedInMilitary\n",
      "HasStudentDebt\n",
      "HomeMortgageOwe\n",
      "HoursLearning\n",
      "ID.x\n",
      "ID.y\n",
      "Income\n",
      "IsEthnicMinority\n",
      "IsReceiveDisabilitiesBenefits\n",
      "IsSoftwareDev\n",
      "IsUnderEmployed\n",
      "JobApplyWhen\n",
      "JobInterestBackEnd\n",
      "JobInterestDataEngr\n",
      "JobInterestDataSci\n",
      "JobInterestDevOps\n",
      "JobInterestFrontEnd\n",
      "JobInterestFullStack\n",
      "JobInterestGameDev\n",
      "JobInterestInfoSec\n",
      "JobInterestMobile\n",
      "JobInterestOther\n",
      "JobInterestProjMngr\n",
      "JobInterestQAEngr\n",
      "JobInterestUX\n",
      "JobPref\n",
      "JobRelocateYesNo\n",
      "JobRoleInterest\n",
      "JobWherePref\n",
      "LanguageAtHome\n",
      "MaritalStatus\n",
      "MoneyForLearning\n",
      "MonthsProgramming\n",
      "NetworkID\n",
      "Part1EndTime\n",
      "Part1StartTime\n",
      "Part2EndTime\n",
      "Part2StartTime\n",
      "PodcastChangeLog\n",
      "PodcastCodeNewbie\n",
      "PodcastCodePen\n",
      "PodcastDevTea\n",
      "PodcastDotNET\n",
      "PodcastGiantRobots\n",
      "PodcastJSAir\n",
      "PodcastJSJabber\n",
      "PodcastNone\n",
      "PodcastOther\n",
      "PodcastProgThrowdown\n",
      "PodcastRubyRogues\n",
      "PodcastSEDaily\n",
      "PodcastSERadio\n",
      "PodcastShopTalk\n",
      "PodcastTalkPython\n",
      "PodcastTheWebAhead\n",
      "ResourceCodecademy\n",
      "ResourceCodeWars\n",
      "ResourceCoursera\n",
      "ResourceCSS\n",
      "ResourceEdX\n",
      "ResourceEgghead\n",
      "ResourceFCC\n",
      "ResourceHackerRank\n",
      "ResourceKA\n",
      "ResourceLynda\n",
      "ResourceMDN\n",
      "ResourceOdinProj\n",
      "ResourceOther\n",
      "ResourcePluralSight\n",
      "ResourceSkillcrush\n",
      "ResourceSO\n",
      "ResourceTreehouse\n",
      "ResourceUdacity\n",
      "ResourceUdemy\n",
      "ResourceW3S\n",
      "SchoolDegree\n",
      "SchoolMajor\n",
      "StudentDebtOwe\n",
      "YouTubeCodeCourse\n",
      "YouTubeCodingTrain\n",
      "YouTubeCodingTut360\n",
      "YouTubeComputerphile\n",
      "YouTubeDerekBanas\n",
      "YouTubeDevTips\n",
      "YouTubeEngineeredTruth\n",
      "YouTubeFCC\n",
      "YouTubeFunFunFunction\n",
      "YouTubeGoogleDev\n",
      "YouTubeLearnCode\n",
      "YouTubeLevelUpTuts\n",
      "YouTubeMIT\n",
      "YouTubeMozillaHacks\n",
      "YouTubeOther\n",
      "YouTubeSimplilearn\n",
      "YouTubeTheNewBoston\n"
     ]
    }
   ],
   "source": [
    "for i in survey.columns:\n",
    "    print(i)"
   ]
  },
  {
   "cell_type": "markdown",
   "metadata": {},
   "source": [
    "The most relevant columns are:\n",
    "\n",
    "* Age\n",
    "* CityPopulation\n",
    "* CountryCitizen\n",
    "* CountryLive\n",
    "* EmploymentField\n",
    "* EmploymentStatus\n",
    "* HasDebt\n",
    "* HoursLearning\n",
    "* Income\n",
    "* MoneyForLearning\n",
    "* SchoolDegree\n",
    "* SchoolMajor\n",
    "\n",
    "freeCodeCamp has over 400,000 followers and there's 18,175 datapoints. I'll have to consider this as a sample and use Bessel's correction."
   ]
  },
  {
   "cell_type": "markdown",
   "metadata": {},
   "source": [
    "## 2.- Checking for Sample Representativity.\n",
    "Use frequency distribution tables to analyze data."
   ]
  },
  {
   "cell_type": "code",
   "execution_count": 4,
   "metadata": {
    "collapsed": false
   },
   "outputs": [
    {
     "data": {
      "text/plain": [
       "Full-Stack Web Developer                                                       11.770595\n",
       "  Front-End Web Developer                                                       6.435927\n",
       "  Data Scientist                                                                2.173913\n",
       "Back-End Web Developer                                                          2.030892\n",
       "  Mobile Developer                                                              1.673341\n",
       "Game Developer                                                                  1.630435\n",
       "Information Security                                                            1.315789\n",
       "Full-Stack Web Developer,   Front-End Web Developer                             0.915332\n",
       "  Front-End Web Developer, Full-Stack Web Developer                             0.800915\n",
       "  Product Manager                                                               0.786613\n",
       "Data Engineer                                                                   0.758009\n",
       "  User Experience Designer                                                      0.743707\n",
       "  User Experience Designer,   Front-End Web Developer                           0.614989\n",
       "  Front-End Web Developer, Back-End Web Developer, Full-Stack Web Developer     0.557780\n",
       "Back-End Web Developer,   Front-End Web Developer, Full-Stack Web Developer     0.514874\n",
       "Back-End Web Developer, Full-Stack Web Developer,   Front-End Web Developer     0.514874\n",
       "  DevOps / SysAdmin                                                             0.514874\n",
       "Full-Stack Web Developer,   Front-End Web Developer, Back-End Web Developer     0.443364\n",
       "  Front-End Web Developer, Full-Stack Web Developer, Back-End Web Developer     0.429062\n",
       "  Front-End Web Developer,   User Experience Designer                           0.414760\n",
       "Full-Stack Web Developer,   Mobile Developer                                    0.414760\n",
       "Back-End Web Developer, Full-Stack Web Developer                                0.386156\n",
       "Full-Stack Web Developer, Back-End Web Developer                                0.371854\n",
       "Back-End Web Developer,   Front-End Web Developer                               0.286041\n",
       "Full-Stack Web Developer, Back-End Web Developer,   Front-End Web Developer     0.271739\n",
       "Name: JobRoleInterest, dtype: float64"
      ]
     },
     "execution_count": 4,
     "metadata": {},
     "output_type": "execute_result"
    }
   ],
   "source": [
    "survey[\"JobRoleInterest\"].value_counts(normalize = True).head(25)*100"
   ]
  },
  {
   "cell_type": "markdown",
   "metadata": {},
   "source": [
    "It seems that the surveyed are interesed in more than one subject, so the sample may not be as representative as I would like. The focus of the company is **web and mobile development**, and at least 25% is interested in this. Let's see if a visualization can help me get a better insight on the representation of the sample"
   ]
  },
  {
   "cell_type": "code",
   "execution_count": 5,
   "metadata": {
    "collapsed": false
   },
   "outputs": [
    {
     "data": {
      "image/png": "[encoded data removed]",
      "text/plain": [
       "<matplotlib.figure.Figure at 0x7f1c1b32feb8>"
      ]
     },
     "metadata": {},
     "output_type": "display_data"
    }
   ],
   "source": [
    "% matplotlib inline\n",
    "import matplotlib.pyplot as plt\n",
    "import seaborn as sns\n",
    "\n",
    "plt.style.use(\"fivethirtyeight\")\n",
    "colorblind = [(0/255,107/255,164/255),(255/255,128/255,14/255),(171/255,171/255,171/255),\n",
    "              (89/255,89/255,89/255),(95/255,158/255,209/255),(200/255,82/255,0/255),\n",
    "              (137/255,137/255,137/255),(162/255,200/255,236/255),(255/255,188/255,121/255),\n",
    "              (207/255,207/255,207/255)]\n",
    "\n",
    "\n",
    "survey[\"JobRoleInterest\"].value_counts().head(10).plot.pie(label = \"\", \n",
    "                                                           colors = colorblind,\n",
    "                                                           startangle = 0,\n",
    "                                                           counterclock = False,\n",
    "                                                          figsize = (10,10),\n",
    "                                                          fontsize = 20,\n",
    "                                                          autopct='%1.0f%%')\n",
    "plt.show()"
   ]
  },
  {
   "cell_type": "markdown",
   "metadata": {},
   "source": [
    "According to the above chart, there is a strong interest in **web development.** This means the sample is representative."
   ]
  },
  {
   "cell_type": "markdown",
   "metadata": {},
   "source": [
    "## 3.- Locations and Densities of the surveyed.\n",
    "Use data cleaning to prepare dataframe for frequency analysis."
   ]
  },
  {
   "cell_type": "code",
   "execution_count": 6,
   "metadata": {
    "collapsed": false
   },
   "outputs": [
    {
     "data": {
      "text/plain": [
       "(18175, 136)"
      ]
     },
     "execution_count": 6,
     "metadata": {},
     "output_type": "execute_result"
    }
   ],
   "source": [
    "survey.shape"
   ]
  },
  {
   "cell_type": "code",
   "execution_count": 7,
   "metadata": {
    "collapsed": true
   },
   "outputs": [],
   "source": [
    "# Drop rows where the surveyed did not specify their Job Role Interest.\n",
    "survey.dropna(subset = [\"JobRoleInterest\"], inplace = True)"
   ]
  },
  {
   "cell_type": "code",
   "execution_count": 8,
   "metadata": {
    "collapsed": false
   },
   "outputs": [
    {
     "data": {
      "text/plain": [
       "(6992, 136)"
      ]
     },
     "execution_count": 8,
     "metadata": {},
     "output_type": "execute_result"
    }
   ],
   "source": [
    "survey.shape"
   ]
  },
  {
   "cell_type": "code",
   "execution_count": 9,
   "metadata": {
    "collapsed": false
   },
   "outputs": [
    {
     "data": {
      "text/plain": [
       "United States of America         3125\n",
       "India                             528\n",
       "United Kingdom                    315\n",
       "Canada                            260\n",
       "Poland                            131\n",
       "Brazil                            129\n",
       "Germany                           125\n",
       "Australia                         112\n",
       "Russia                            102\n",
       "Ukraine                            89\n",
       "Nigeria                            84\n",
       "Spain                              77\n",
       "France                             75\n",
       "Romania                            71\n",
       "Netherlands (Holland, Europe)      65\n",
       "Italy                              62\n",
       "Serbia                             52\n",
       "Philippines                        52\n",
       "Greece                             46\n",
       "Ireland                            43\n",
       "South Africa                       39\n",
       "Mexico                             37\n",
       "Turkey                             36\n",
       "Singapore                          34\n",
       "Hungary                            34\n",
       "New Zealand                        33\n",
       "Croatia                            32\n",
       "Argentina                          32\n",
       "Sweden                             31\n",
       "Indonesia                          31\n",
       "                                 ... \n",
       "Gambia                              1\n",
       "Panama                              1\n",
       "Vanuatu                             1\n",
       "Anguilla                            1\n",
       "Rwanda                              1\n",
       "Bolivia                             1\n",
       "Cuba                                1\n",
       "Samoa                               1\n",
       "Aruba                               1\n",
       "Angola                              1\n",
       "Qatar                               1\n",
       "Botswana                            1\n",
       "Liberia                             1\n",
       "Cameroon                            1\n",
       "Kyrgyzstan                          1\n",
       "Mozambique                          1\n",
       "Guadeloupe                          1\n",
       "Guatemala                           1\n",
       "Nambia                              1\n",
       "Nicaragua                           1\n",
       "Trinidad & Tobago                   1\n",
       "Channel Islands                     1\n",
       "Gibraltar                           1\n",
       "Myanmar                             1\n",
       "Papua New Guinea                    1\n",
       "Yemen                               1\n",
       "Jordan                              1\n",
       "Somalia                             1\n",
       "Turkmenistan                        1\n",
       "Cayman Islands                      1\n",
       "Name: CountryLive, Length: 137, dtype: int64"
      ]
     },
     "execution_count": 9,
     "metadata": {},
     "output_type": "execute_result"
    }
   ],
   "source": [
    "survey[\"CountryLive\"].value_counts()"
   ]
  },
  {
   "cell_type": "code",
   "execution_count": 10,
   "metadata": {
    "collapsed": false
   },
   "outputs": [
    {
     "data": {
      "text/plain": [
       "United States of America         45.700497\n",
       "India                             7.721556\n",
       "United Kingdom                    4.606610\n",
       "Canada                            3.802281\n",
       "Poland                            1.915765\n",
       "Brazil                            1.886517\n",
       "Germany                           1.828020\n",
       "Australia                         1.637906\n",
       "Russia                            1.491664\n",
       "Ukraine                           1.301550\n",
       "Nigeria                           1.228429\n",
       "Spain                             1.126060\n",
       "France                            1.096812\n",
       "Romania                           1.038315\n",
       "Netherlands (Holland, Europe)     0.950570\n",
       "Italy                             0.906698\n",
       "Serbia                            0.760456\n",
       "Philippines                       0.760456\n",
       "Greece                            0.672711\n",
       "Ireland                           0.628839\n",
       "South Africa                      0.570342\n",
       "Mexico                            0.541094\n",
       "Turkey                            0.526470\n",
       "Singapore                         0.497221\n",
       "Hungary                           0.497221\n",
       "New Zealand                       0.482597\n",
       "Croatia                           0.467973\n",
       "Argentina                         0.467973\n",
       "Sweden                            0.453349\n",
       "Indonesia                         0.453349\n",
       "                                   ...    \n",
       "Gambia                            0.014624\n",
       "Panama                            0.014624\n",
       "Vanuatu                           0.014624\n",
       "Anguilla                          0.014624\n",
       "Rwanda                            0.014624\n",
       "Bolivia                           0.014624\n",
       "Cuba                              0.014624\n",
       "Samoa                             0.014624\n",
       "Aruba                             0.014624\n",
       "Angola                            0.014624\n",
       "Qatar                             0.014624\n",
       "Botswana                          0.014624\n",
       "Liberia                           0.014624\n",
       "Cameroon                          0.014624\n",
       "Kyrgyzstan                        0.014624\n",
       "Mozambique                        0.014624\n",
       "Guadeloupe                        0.014624\n",
       "Guatemala                         0.014624\n",
       "Nambia                            0.014624\n",
       "Nicaragua                         0.014624\n",
       "Trinidad & Tobago                 0.014624\n",
       "Channel Islands                   0.014624\n",
       "Gibraltar                         0.014624\n",
       "Myanmar                           0.014624\n",
       "Papua New Guinea                  0.014624\n",
       "Yemen                             0.014624\n",
       "Jordan                            0.014624\n",
       "Somalia                           0.014624\n",
       "Turkmenistan                      0.014624\n",
       "Cayman Islands                    0.014624\n",
       "Name: CountryLive, Length: 137, dtype: float64"
      ]
     },
     "execution_count": 10,
     "metadata": {},
     "output_type": "execute_result"
    }
   ],
   "source": [
    "survey[\"CountryLive\"].value_counts(normalize = True)*100"
   ]
  },
  {
   "cell_type": "markdown",
   "metadata": {},
   "source": [
    "There is a better way to display these tables: join them in a dataframe."
   ]
  },
  {
   "cell_type": "code",
   "execution_count": 11,
   "metadata": {
    "collapsed": false,
    "scrolled": false
   },
   "outputs": [
    {
     "data": {
      "text/html": [
       "<div>\n",
       "<style scoped>\n",
       "    .dataframe tbody tr th:only-of-type {\n",
       "        vertical-align: middle;\n",
       "    }\n",
       "\n",
       "    .dataframe tbody tr th {\n",
       "        vertical-align: top;\n",
       "    }\n",
       "\n",
       "    .dataframe thead th {\n",
       "        text-align: right;\n",
       "    }\n",
       "</style>\n",
       "<table border=\"1\" class=\"dataframe\">\n",
       "  <thead>\n",
       "    <tr style=\"text-align: right;\">\n",
       "      <th></th>\n",
       "      <th>Absolute</th>\n",
       "      <th>Relative</th>\n",
       "    </tr>\n",
       "  </thead>\n",
       "  <tbody>\n",
       "    <tr>\n",
       "      <th>United States of America</th>\n",
       "      <td>3125</td>\n",
       "      <td>45.700497</td>\n",
       "    </tr>\n",
       "    <tr>\n",
       "      <th>India</th>\n",
       "      <td>528</td>\n",
       "      <td>7.721556</td>\n",
       "    </tr>\n",
       "    <tr>\n",
       "      <th>United Kingdom</th>\n",
       "      <td>315</td>\n",
       "      <td>4.606610</td>\n",
       "    </tr>\n",
       "    <tr>\n",
       "      <th>Canada</th>\n",
       "      <td>260</td>\n",
       "      <td>3.802281</td>\n",
       "    </tr>\n",
       "    <tr>\n",
       "      <th>Poland</th>\n",
       "      <td>131</td>\n",
       "      <td>1.915765</td>\n",
       "    </tr>\n",
       "    <tr>\n",
       "      <th>Brazil</th>\n",
       "      <td>129</td>\n",
       "      <td>1.886517</td>\n",
       "    </tr>\n",
       "    <tr>\n",
       "      <th>Germany</th>\n",
       "      <td>125</td>\n",
       "      <td>1.828020</td>\n",
       "    </tr>\n",
       "    <tr>\n",
       "      <th>Australia</th>\n",
       "      <td>112</td>\n",
       "      <td>1.637906</td>\n",
       "    </tr>\n",
       "    <tr>\n",
       "      <th>Russia</th>\n",
       "      <td>102</td>\n",
       "      <td>1.491664</td>\n",
       "    </tr>\n",
       "    <tr>\n",
       "      <th>Ukraine</th>\n",
       "      <td>89</td>\n",
       "      <td>1.301550</td>\n",
       "    </tr>\n",
       "    <tr>\n",
       "      <th>Nigeria</th>\n",
       "      <td>84</td>\n",
       "      <td>1.228429</td>\n",
       "    </tr>\n",
       "    <tr>\n",
       "      <th>Spain</th>\n",
       "      <td>77</td>\n",
       "      <td>1.126060</td>\n",
       "    </tr>\n",
       "    <tr>\n",
       "      <th>France</th>\n",
       "      <td>75</td>\n",
       "      <td>1.096812</td>\n",
       "    </tr>\n",
       "    <tr>\n",
       "      <th>Romania</th>\n",
       "      <td>71</td>\n",
       "      <td>1.038315</td>\n",
       "    </tr>\n",
       "    <tr>\n",
       "      <th>Netherlands (Holland, Europe)</th>\n",
       "      <td>65</td>\n",
       "      <td>0.950570</td>\n",
       "    </tr>\n",
       "    <tr>\n",
       "      <th>Italy</th>\n",
       "      <td>62</td>\n",
       "      <td>0.906698</td>\n",
       "    </tr>\n",
       "    <tr>\n",
       "      <th>Serbia</th>\n",
       "      <td>52</td>\n",
       "      <td>0.760456</td>\n",
       "    </tr>\n",
       "    <tr>\n",
       "      <th>Philippines</th>\n",
       "      <td>52</td>\n",
       "      <td>0.760456</td>\n",
       "    </tr>\n",
       "    <tr>\n",
       "      <th>Greece</th>\n",
       "      <td>46</td>\n",
       "      <td>0.672711</td>\n",
       "    </tr>\n",
       "    <tr>\n",
       "      <th>Ireland</th>\n",
       "      <td>43</td>\n",
       "      <td>0.628839</td>\n",
       "    </tr>\n",
       "    <tr>\n",
       "      <th>South Africa</th>\n",
       "      <td>39</td>\n",
       "      <td>0.570342</td>\n",
       "    </tr>\n",
       "    <tr>\n",
       "      <th>Mexico</th>\n",
       "      <td>37</td>\n",
       "      <td>0.541094</td>\n",
       "    </tr>\n",
       "    <tr>\n",
       "      <th>Turkey</th>\n",
       "      <td>36</td>\n",
       "      <td>0.526470</td>\n",
       "    </tr>\n",
       "    <tr>\n",
       "      <th>Singapore</th>\n",
       "      <td>34</td>\n",
       "      <td>0.497221</td>\n",
       "    </tr>\n",
       "    <tr>\n",
       "      <th>Hungary</th>\n",
       "      <td>34</td>\n",
       "      <td>0.497221</td>\n",
       "    </tr>\n",
       "    <tr>\n",
       "      <th>New Zealand</th>\n",
       "      <td>33</td>\n",
       "      <td>0.482597</td>\n",
       "    </tr>\n",
       "    <tr>\n",
       "      <th>Croatia</th>\n",
       "      <td>32</td>\n",
       "      <td>0.467973</td>\n",
       "    </tr>\n",
       "    <tr>\n",
       "      <th>Argentina</th>\n",
       "      <td>32</td>\n",
       "      <td>0.467973</td>\n",
       "    </tr>\n",
       "    <tr>\n",
       "      <th>Sweden</th>\n",
       "      <td>31</td>\n",
       "      <td>0.453349</td>\n",
       "    </tr>\n",
       "    <tr>\n",
       "      <th>Indonesia</th>\n",
       "      <td>31</td>\n",
       "      <td>0.453349</td>\n",
       "    </tr>\n",
       "    <tr>\n",
       "      <th>...</th>\n",
       "      <td>...</td>\n",
       "      <td>...</td>\n",
       "    </tr>\n",
       "    <tr>\n",
       "      <th>Gambia</th>\n",
       "      <td>1</td>\n",
       "      <td>0.014624</td>\n",
       "    </tr>\n",
       "    <tr>\n",
       "      <th>Panama</th>\n",
       "      <td>1</td>\n",
       "      <td>0.014624</td>\n",
       "    </tr>\n",
       "    <tr>\n",
       "      <th>Vanuatu</th>\n",
       "      <td>1</td>\n",
       "      <td>0.014624</td>\n",
       "    </tr>\n",
       "    <tr>\n",
       "      <th>Anguilla</th>\n",
       "      <td>1</td>\n",
       "      <td>0.014624</td>\n",
       "    </tr>\n",
       "    <tr>\n",
       "      <th>Rwanda</th>\n",
       "      <td>1</td>\n",
       "      <td>0.014624</td>\n",
       "    </tr>\n",
       "    <tr>\n",
       "      <th>Bolivia</th>\n",
       "      <td>1</td>\n",
       "      <td>0.014624</td>\n",
       "    </tr>\n",
       "    <tr>\n",
       "      <th>Cuba</th>\n",
       "      <td>1</td>\n",
       "      <td>0.014624</td>\n",
       "    </tr>\n",
       "    <tr>\n",
       "      <th>Samoa</th>\n",
       "      <td>1</td>\n",
       "      <td>0.014624</td>\n",
       "    </tr>\n",
       "    <tr>\n",
       "      <th>Aruba</th>\n",
       "      <td>1</td>\n",
       "      <td>0.014624</td>\n",
       "    </tr>\n",
       "    <tr>\n",
       "      <th>Angola</th>\n",
       "      <td>1</td>\n",
       "      <td>0.014624</td>\n",
       "    </tr>\n",
       "    <tr>\n",
       "      <th>Qatar</th>\n",
       "      <td>1</td>\n",
       "      <td>0.014624</td>\n",
       "    </tr>\n",
       "    <tr>\n",
       "      <th>Botswana</th>\n",
       "      <td>1</td>\n",
       "      <td>0.014624</td>\n",
       "    </tr>\n",
       "    <tr>\n",
       "      <th>Liberia</th>\n",
       "      <td>1</td>\n",
       "      <td>0.014624</td>\n",
       "    </tr>\n",
       "    <tr>\n",
       "      <th>Cameroon</th>\n",
       "      <td>1</td>\n",
       "      <td>0.014624</td>\n",
       "    </tr>\n",
       "    <tr>\n",
       "      <th>Kyrgyzstan</th>\n",
       "      <td>1</td>\n",
       "      <td>0.014624</td>\n",
       "    </tr>\n",
       "    <tr>\n",
       "      <th>Mozambique</th>\n",
       "      <td>1</td>\n",
       "      <td>0.014624</td>\n",
       "    </tr>\n",
       "    <tr>\n",
       "      <th>Guadeloupe</th>\n",
       "      <td>1</td>\n",
       "      <td>0.014624</td>\n",
       "    </tr>\n",
       "    <tr>\n",
       "      <th>Guatemala</th>\n",
       "      <td>1</td>\n",
       "      <td>0.014624</td>\n",
       "    </tr>\n",
       "    <tr>\n",
       "      <th>Nambia</th>\n",
       "      <td>1</td>\n",
       "      <td>0.014624</td>\n",
       "    </tr>\n",
       "    <tr>\n",
       "      <th>Nicaragua</th>\n",
       "      <td>1</td>\n",
       "      <td>0.014624</td>\n",
       "    </tr>\n",
       "    <tr>\n",
       "      <th>Trinidad &amp; Tobago</th>\n",
       "      <td>1</td>\n",
       "      <td>0.014624</td>\n",
       "    </tr>\n",
       "    <tr>\n",
       "      <th>Channel Islands</th>\n",
       "      <td>1</td>\n",
       "      <td>0.014624</td>\n",
       "    </tr>\n",
       "    <tr>\n",
       "      <th>Gibraltar</th>\n",
       "      <td>1</td>\n",
       "      <td>0.014624</td>\n",
       "    </tr>\n",
       "    <tr>\n",
       "      <th>Myanmar</th>\n",
       "      <td>1</td>\n",
       "      <td>0.014624</td>\n",
       "    </tr>\n",
       "    <tr>\n",
       "      <th>Papua New Guinea</th>\n",
       "      <td>1</td>\n",
       "      <td>0.014624</td>\n",
       "    </tr>\n",
       "    <tr>\n",
       "      <th>Yemen</th>\n",
       "      <td>1</td>\n",
       "      <td>0.014624</td>\n",
       "    </tr>\n",
       "    <tr>\n",
       "      <th>Jordan</th>\n",
       "      <td>1</td>\n",
       "      <td>0.014624</td>\n",
       "    </tr>\n",
       "    <tr>\n",
       "      <th>Somalia</th>\n",
       "      <td>1</td>\n",
       "      <td>0.014624</td>\n",
       "    </tr>\n",
       "    <tr>\n",
       "      <th>Turkmenistan</th>\n",
       "      <td>1</td>\n",
       "      <td>0.014624</td>\n",
       "    </tr>\n",
       "    <tr>\n",
       "      <th>Cayman Islands</th>\n",
       "      <td>1</td>\n",
       "      <td>0.014624</td>\n",
       "    </tr>\n",
       "  </tbody>\n",
       "</table>\n",
       "<p>137 rows × 2 columns</p>\n",
       "</div>"
      ],
      "text/plain": [
       "                               Absolute   Relative\n",
       "United States of America           3125  45.700497\n",
       "India                               528   7.721556\n",
       "United Kingdom                      315   4.606610\n",
       "Canada                              260   3.802281\n",
       "Poland                              131   1.915765\n",
       "Brazil                              129   1.886517\n",
       "Germany                             125   1.828020\n",
       "Australia                           112   1.637906\n",
       "Russia                              102   1.491664\n",
       "Ukraine                              89   1.301550\n",
       "Nigeria                              84   1.228429\n",
       "Spain                                77   1.126060\n",
       "France                               75   1.096812\n",
       "Romania                              71   1.038315\n",
       "Netherlands (Holland, Europe)        65   0.950570\n",
       "Italy                                62   0.906698\n",
       "Serbia                               52   0.760456\n",
       "Philippines                          52   0.760456\n",
       "Greece                               46   0.672711\n",
       "Ireland                              43   0.628839\n",
       "South Africa                         39   0.570342\n",
       "Mexico                               37   0.541094\n",
       "Turkey                               36   0.526470\n",
       "Singapore                            34   0.497221\n",
       "Hungary                              34   0.497221\n",
       "New Zealand                          33   0.482597\n",
       "Croatia                              32   0.467973\n",
       "Argentina                            32   0.467973\n",
       "Sweden                               31   0.453349\n",
       "Indonesia                            31   0.453349\n",
       "...                                 ...        ...\n",
       "Gambia                                1   0.014624\n",
       "Panama                                1   0.014624\n",
       "Vanuatu                               1   0.014624\n",
       "Anguilla                              1   0.014624\n",
       "Rwanda                                1   0.014624\n",
       "Bolivia                               1   0.014624\n",
       "Cuba                                  1   0.014624\n",
       "Samoa                                 1   0.014624\n",
       "Aruba                                 1   0.014624\n",
       "Angola                                1   0.014624\n",
       "Qatar                                 1   0.014624\n",
       "Botswana                              1   0.014624\n",
       "Liberia                               1   0.014624\n",
       "Cameroon                              1   0.014624\n",
       "Kyrgyzstan                            1   0.014624\n",
       "Mozambique                            1   0.014624\n",
       "Guadeloupe                            1   0.014624\n",
       "Guatemala                             1   0.014624\n",
       "Nambia                                1   0.014624\n",
       "Nicaragua                             1   0.014624\n",
       "Trinidad & Tobago                     1   0.014624\n",
       "Channel Islands                       1   0.014624\n",
       "Gibraltar                             1   0.014624\n",
       "Myanmar                               1   0.014624\n",
       "Papua New Guinea                      1   0.014624\n",
       "Yemen                                 1   0.014624\n",
       "Jordan                                1   0.014624\n",
       "Somalia                               1   0.014624\n",
       "Turkmenistan                          1   0.014624\n",
       "Cayman Islands                        1   0.014624\n",
       "\n",
       "[137 rows x 2 columns]"
      ]
     },
     "execution_count": 11,
     "metadata": {},
     "output_type": "execute_result"
    }
   ],
   "source": [
    "absolute_frequency = survey[\"CountryLive\"].value_counts()\n",
    "relative_frequency = survey[\"CountryLive\"].value_counts(normalize = True)*100\n",
    "\n",
    "country_frequencies = pd.DataFrame(data = {\"Absolute\": absolute_frequency, \n",
    "                                          \"Relative\": relative_frequency})\n",
    "\n",
    "country_frequencies"
   ]
  },
  {
   "cell_type": "markdown",
   "metadata": {},
   "source": [
    "It would seem that the analysis is complete now, the two \"best\" markets to advertise in are USA and India but..."
   ]
  },
  {
   "cell_type": "markdown",
   "metadata": {},
   "source": [
    "## 4.- Spending Money for Learning.\n",
    "Let's analyze the monetary aspect of learning."
   ]
  },
  {
   "cell_type": "code",
   "execution_count": 12,
   "metadata": {
    "collapsed": false
   },
   "outputs": [],
   "source": [
    "# Change values from 0 to 1 months.\n",
    "survey[\"MonthsProgramming\"].replace(to_replace = 0, value = 1, inplace = True)"
   ]
  },
  {
   "cell_type": "code",
   "execution_count": 13,
   "metadata": {
    "collapsed": true
   },
   "outputs": [],
   "source": [
    "# Create new column to see how much per month the surveyed are considering spending.\n",
    "survey[\"MonthlySpending\"] = survey[\"MoneyForLearning\"] / survey[\"MonthsProgramming\"]"
   ]
  },
  {
   "cell_type": "code",
   "execution_count": 14,
   "metadata": {
    "collapsed": false
   },
   "outputs": [
    {
     "name": "stdout",
     "output_type": "stream",
     "text": [
      "675\n",
      "(6992, 137)\n"
     ]
    }
   ],
   "source": [
    "# See how much null rows exist and drop them in the cell below.\n",
    "print(survey[\"MonthlySpending\"].isnull().sum())\n",
    "print(survey.shape)"
   ]
  },
  {
   "cell_type": "code",
   "execution_count": 15,
   "metadata": {
    "collapsed": false
   },
   "outputs": [
    {
     "data": {
      "text/plain": [
       "(6317, 137)"
      ]
     },
     "execution_count": 15,
     "metadata": {},
     "output_type": "execute_result"
    }
   ],
   "source": [
    "survey = survey[survey[\"MonthlySpending\"].notnull()]\n",
    "survey.shape"
   ]
  },
  {
   "cell_type": "code",
   "execution_count": 16,
   "metadata": {
    "collapsed": false
   },
   "outputs": [
    {
     "data": {
      "text/plain": [
       "105"
      ]
     },
     "execution_count": 16,
     "metadata": {},
     "output_type": "execute_result"
    }
   ],
   "source": [
    "survey[\"CountryLive\"].isnull().sum()"
   ]
  },
  {
   "cell_type": "code",
   "execution_count": 17,
   "metadata": {
    "collapsed": false
   },
   "outputs": [
    {
     "data": {
      "text/plain": [
       "(6212, 137)"
      ]
     },
     "execution_count": 17,
     "metadata": {},
     "output_type": "execute_result"
    }
   ],
   "source": [
    "survey = survey[survey[\"CountryLive\"].notnull()]\n",
    "survey.shape"
   ]
  },
  {
   "cell_type": "code",
   "execution_count": 18,
   "metadata": {
    "collapsed": false
   },
   "outputs": [
    {
     "data": {
      "text/plain": [
       "United States of America    2933\n",
       "India                        463\n",
       "United Kingdom               279\n",
       "Canada                       240\n",
       "Poland                       122\n",
       "Name: CountryLive, dtype: int64"
      ]
     },
     "execution_count": 18,
     "metadata": {},
     "output_type": "execute_result"
    }
   ],
   "source": [
    "survey[\"CountryLive\"].value_counts().head()"
   ]
  },
  {
   "cell_type": "code",
   "execution_count": 19,
   "metadata": {
    "collapsed": false
   },
   "outputs": [],
   "source": [
    "# Use groupby and mean to create new dataframe.\n",
    "top_countries = survey.groupby(\"CountryLive\").mean()\n",
    "top_list = [\"United States of America\", \"India\", \"United Kingdom\", \"Canada\"]"
   ]
  },
  {
   "cell_type": "code",
   "execution_count": 20,
   "metadata": {
    "collapsed": false
   },
   "outputs": [
    {
     "data": {
      "text/plain": [
       "CountryLive\n",
       "United States of America    227.997996\n",
       "India                       135.100982\n",
       "United Kingdom               45.534443\n",
       "Canada                      113.510961\n",
       "Name: MonthlySpending, dtype: float64"
      ]
     },
     "execution_count": 20,
     "metadata": {},
     "output_type": "execute_result"
    }
   ],
   "source": [
    "top_countries[\"MonthlySpending\"][top_list]"
   ]
  },
  {
   "cell_type": "markdown",
   "metadata": {},
   "source": [
    "It seems weird to me that India had such a high value. Let's do some visualizations to see what's happening with these distributions."
   ]
  },
  {
   "cell_type": "markdown",
   "metadata": {},
   "source": [
    "## 5.- Dealing with Extreme Outliers.\n",
    "Generate box plots to visualize each country's data."
   ]
  },
  {
   "cell_type": "code",
   "execution_count": 21,
   "metadata": {
    "collapsed": false
   },
   "outputs": [],
   "source": [
    "four_countries = survey[(survey[\"CountryLive\"] == \"United States of America\") | \n",
    "                       (survey[\"CountryLive\"] == \"India\") |\n",
    "                       (survey[\"CountryLive\"] == \"United Kingdom\") |\n",
    "                       (survey[\"CountryLive\"] == \"Canada\")]"
   ]
  },
  {
   "cell_type": "code",
   "execution_count": 22,
   "metadata": {
    "collapsed": false
   },
   "outputs": [
    {
     "name": "stderr",
     "output_type": "stream",
     "text": [
      "/dataquest/system/env/python3/lib/python3.4/site-packages/seaborn/categorical.py:454: FutureWarning: remove_na is deprecated and is a private function. Do not use.\n",
      "  box_data = remove_na(group_data)\n"
     ]
    },
    {
     "data": {
      "text/plain": [
       "<matplotlib.axes._subplots.AxesSubplot at 0x7f1c18bd71d0>"
      ]
     },
     "execution_count": 22,
     "metadata": {},
     "output_type": "execute_result"
    },
    {
     "data": {
      "image/png": "[encoded data removed]",
      "text/plain": [
       "<matplotlib.figure.Figure at 0x7f1c18e8eda0>"
      ]
     },
     "metadata": {},
     "output_type": "display_data"
    }
   ],
   "source": [
    "sns.set(rc={'figure.figsize':(11.7,8.27)})\n",
    "sns.boxplot(x = \"CountryLive\", y = \"MonthlySpending\", data = four_countries)"
   ]
  },
  {
   "cell_type": "markdown",
   "metadata": {},
   "source": [
    "All cases, except UK, have extreme outliers. I will drop all rows with \"MonthlySpending\" larger than 1000."
   ]
  },
  {
   "cell_type": "code",
   "execution_count": 23,
   "metadata": {
    "collapsed": false
   },
   "outputs": [],
   "source": [
    "four_countries = four_countries[four_countries[\"MonthlySpending\"] < 1000]"
   ]
  },
  {
   "cell_type": "code",
   "execution_count": 24,
   "metadata": {
    "collapsed": false
   },
   "outputs": [
    {
     "name": "stderr",
     "output_type": "stream",
     "text": [
      "/dataquest/system/env/python3/lib/python3.4/site-packages/seaborn/categorical.py:454: FutureWarning: remove_na is deprecated and is a private function. Do not use.\n",
      "  box_data = remove_na(group_data)\n"
     ]
    },
    {
     "data": {
      "text/plain": [
       "<matplotlib.axes._subplots.AxesSubplot at 0x7f1c18dc84e0>"
      ]
     },
     "execution_count": 24,
     "metadata": {},
     "output_type": "execute_result"
    },
    {
     "data": {
      "image/png": "[encoded data removed]",
      "text/plain": [
       "<matplotlib.figure.Figure at 0x7f1c18d37470>"
      ]
     },
     "metadata": {},
     "output_type": "display_data"
    }
   ],
   "source": [
    "sns.boxplot(x = \"CountryLive\", y = \"MonthlySpending\", data = four_countries)"
   ]
  },
  {
   "cell_type": "markdown",
   "metadata": {},
   "source": [
    "It would seem that dropping everybody above $1000 was the way to go."
   ]
  },
  {
   "cell_type": "code",
   "execution_count": 25,
   "metadata": {
    "collapsed": false
   },
   "outputs": [
    {
     "data": {
      "text/plain": [
       "CountryLive\n",
       "Canada                      46.934471\n",
       "India                       30.709658\n",
       "United Kingdom              28.560399\n",
       "United States of America    55.362155\n",
       "Name: MonthlySpending, dtype: float64"
      ]
     },
     "execution_count": 25,
     "metadata": {},
     "output_type": "execute_result"
    }
   ],
   "source": [
    "best_market = four_countries.groupby(\"CountryLive\").mean()\n",
    "best_market[\"MonthlySpending\"]"
   ]
  },
  {
   "cell_type": "markdown",
   "metadata": {},
   "source": [
    "The two best markets to advertise are: United States and Canada."
   ]
  },
  {
   "cell_type": "markdown",
   "metadata": {},
   "source": [
    "## 6.- Choosing the Two Best Markets.\n",
    "Is there anything else I could be forgetting? Yes, the price for subscription is $60."
   ]
  },
  {
   "cell_type": "code",
   "execution_count": 26,
   "metadata": {
    "collapsed": false
   },
   "outputs": [],
   "source": [
    "best_two_markets = four_countries[four_countries[\"MonthlySpending\"] > 60]"
   ]
  },
  {
   "cell_type": "code",
   "execution_count": 27,
   "metadata": {
    "collapsed": false
   },
   "outputs": [
    {
     "data": {
      "text/plain": [
       "United States of America    81.055901\n",
       "India                        8.540373\n",
       "United Kingdom               5.434783\n",
       "Canada                       4.968944\n",
       "Name: CountryLive, dtype: float64"
      ]
     },
     "execution_count": 27,
     "metadata": {},
     "output_type": "execute_result"
    }
   ],
   "source": [
    "best_two_markets[\"CountryLive\"].value_counts(normalize = True)*100"
   ]
  },
  {
   "cell_type": "markdown",
   "metadata": {},
   "source": [
    "The choise is clear, I recommend investing in USA and India. Also if possible the third choice would be to spend it equally on UK and Canada."
   ]
  },
  {
   "cell_type": "markdown",
   "metadata": {},
   "source": [
    "## 7.- Next steps.\n",
    "\n",
    "* Finding other criteria for choosing the best market.\n",
    "* Analyzing other data sets:\n",
    "    * freeCodeCamp's 2016 New Coders Survey\n",
    "    * Stack Overflow 2018 Developer Survey\n",
    "* Improve working and style.\n",
    "\n",
    "To be continued..."
   ]
  }
 ],
 "metadata": {
  "kernelspec": {
   "display_name": "Python 3",
   "language": "python",
   "name": "python3"
  },
  "language_info": {
   "codemirror_mode": {
    "name": "ipython",
    "version": 3
   },
   "file_extension": ".py",
   "mimetype": "text/x-python",
   "name": "python",
   "nbconvert_exporter": "python",
   "pygments_lexer": "ipython3",
   "version": "3.4.3"
  }
 },
 "nbformat": 4,
 "nbformat_minor": 2
}
