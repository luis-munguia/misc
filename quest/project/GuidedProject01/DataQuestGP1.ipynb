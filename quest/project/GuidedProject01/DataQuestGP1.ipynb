{
 "cells": [
  {
   "cell_type": "markdown",
   "metadata": {},
   "source": [
    "# Guided Project #1 - U.S. Births\n",
    "By [Luis Munguia](http://www.linkedin.com/in/luis-munguia) and [Dataquest](http://www.dataquest.io)\n",
    "\n",
    "In this guided project, I'll work with a dataset on births in the U.S. compiled by FiveThirtyEight from CDC information.\n",
    "\n",
    "The dataset contains the following columns:\n",
    "\n",
    "* `year`: Year (`1994` to `2003`).\n",
    "* `month`: Month (`1` to `12`).\n",
    "* `date_of_month`: Day number of the month (`1` to `31`).\n",
    "* `day_of_week`: Day of week (`1` to `7`).\n",
    "* `births`: Number of births that day."
   ]
  },
  {
   "cell_type": "markdown",
   "metadata": {},
   "source": [
    "## 1.- Read CSV and explore data.\n",
    "Use built in functions to convert file. The dataset came with **newline delimiters and comma separated values**."
   ]
  },
  {
   "cell_type": "code",
   "execution_count": 1,
   "metadata": {
    "collapsed": false,
    "scrolled": true
   },
   "outputs": [
    {
     "data": {
      "text/plain": [
       "'year,month,date_of_month,day_of_week,births\\n1994,1,1,6,8096\\n1994,1,2,7,7772\\n1994,1,3,1,10142\\n1994,1,4,2,11248\\n1994,1,5,3,11053\\n1994,1,6,4,11406\\n1994,1,7,5,11251\\n1994,1,8,6,8653\\n1994,1,9,7,7910\\n1994,1,10,1,10498\\n1994,1,11,2,11706\\n1994,1,12,3,11567\\n1994,1,13,4,11212\\n1994,1,14,5,11570\\n1994,1,15,6,8660\\n'"
      ]
     },
     "execution_count": 1,
     "metadata": {},
     "output_type": "execute_result"
    }
   ],
   "source": [
    "f = open(\"US_births_1994-2003_CDC_NCHS.csv\")\n",
    "header_database = f.read()\n",
    "header_database[0:300] #Database is a string with headers and values}"
   ]
  },
  {
   "cell_type": "markdown",
   "metadata": {},
   "source": [
    "## 2.- Create `read_csv()` function\n",
    "Define a function that takes a single required argument and formats dataset into a **headerless integer list of lists**."
   ]
  },
  {
   "cell_type": "code",
   "execution_count": 2,
   "metadata": {
    "collapsed": false
   },
   "outputs": [],
   "source": [
    "def read_csv(csvfile):\n",
    "    split_header_database = open(csvfile).read().split(\"\\n\") \n",
    "    database = split_header_database[1:]    #Remove header\n",
    "    integer_database = []\n",
    "    for data in database:\n",
    "        row = data.split(\",\")\n",
    "        int_fields = [int(index) for index in row]\n",
    "        integer_database.append(int_fields)\n",
    "    return integer_database                 #Database items are integers\n",
    "\n",
    "cdc_births = read_csv(\"US_births_1994-2003_CDC_NCHS.csv\")"
   ]
  },
  {
   "cell_type": "code",
   "execution_count": 3,
   "metadata": {
    "collapsed": false
   },
   "outputs": [
    {
     "data": {
      "text/plain": [
       "[[1994, 1, 1, 6, 8096],\n",
       " [1994, 1, 2, 7, 7772],\n",
       " [1994, 1, 3, 1, 10142],\n",
       " [1994, 1, 4, 2, 11248],\n",
       " [1994, 1, 5, 3, 11053],\n",
       " [1994, 1, 6, 4, 11406],\n",
       " [1994, 1, 7, 5, 11251],\n",
       " [1994, 1, 8, 6, 8653],\n",
       " [1994, 1, 9, 7, 7910],\n",
       " [1994, 1, 10, 1, 10498]]"
      ]
     },
     "execution_count": 3,
     "metadata": {},
     "output_type": "execute_result"
    }
   ],
   "source": [
    "cdc_births[0:10] #This confirms it's a list of lists."
   ]
  },
  {
   "cell_type": "code",
   "execution_count": 4,
   "metadata": {
    "collapsed": false,
    "scrolled": false
   },
   "outputs": [
    {
     "data": {
      "text/plain": [
       "int"
      ]
     },
     "execution_count": 4,
     "metadata": {},
     "output_type": "execute_result"
    }
   ],
   "source": [
    "type(cdc_births[0][0]) #This confirms value is integer and not string."
   ]
  },
  {
   "cell_type": "markdown",
   "metadata": {},
   "source": [
    "## 3.- Create `month_births()` function\n",
    "\n",
    "Define a function that takes a single required argument and calculates the total births by **month**."
   ]
  },
  {
   "cell_type": "code",
   "execution_count": 5,
   "metadata": {
    "collapsed": true
   },
   "outputs": [],
   "source": [
    "def month_births(read_csv):\n",
    "    births_per_month = {}\n",
    "    for row in read_csv:\n",
    "        month = row[1]\n",
    "        births = row[-1] #Births is the last column\n",
    "        if month in births_per_month:\n",
    "            births_per_month[month] += births\n",
    "        else:\n",
    "            births_per_month[month] = births\n",
    "    return births_per_month"
   ]
  },
  {
   "cell_type": "code",
   "execution_count": 6,
   "metadata": {
    "collapsed": false,
    "scrolled": true
   },
   "outputs": [
    {
     "data": {
      "text/plain": [
       "{1: 3232517,\n",
       " 2: 3018140,\n",
       " 3: 3322069,\n",
       " 4: 3185314,\n",
       " 5: 3350907,\n",
       " 6: 3296530,\n",
       " 7: 3498783,\n",
       " 8: 3525858,\n",
       " 9: 3439698,\n",
       " 10: 3378814,\n",
       " 11: 3171647,\n",
       " 12: 3301860}"
      ]
     },
     "execution_count": 6,
     "metadata": {},
     "output_type": "execute_result"
    }
   ],
   "source": [
    "cdc_month_births = month_births(cdc_births)\n",
    "cdc_month_births"
   ]
  },
  {
   "cell_type": "markdown",
   "metadata": {},
   "source": [
    "Statistically, the month with highest births is **August**, which seems to corroborate an old woman's saying: *\"Made during the cold days\"*."
   ]
  },
  {
   "cell_type": "markdown",
   "metadata": {},
   "source": [
    "## 4.- Create `dow_births()` function\n",
    "\n",
    "Define a function that takes a single required argument and calculates the total births by **day of week**."
   ]
  },
  {
   "cell_type": "code",
   "execution_count": 7,
   "metadata": {
    "collapsed": true
   },
   "outputs": [],
   "source": [
    "def dow_births(read_csv):\n",
    "    births_by_dow = {}\n",
    "    for row in read_csv:\n",
    "        day = row[3]\n",
    "        birth = row[-1]\n",
    "        if day in births_by_dow:\n",
    "            births_by_dow[day] += birth\n",
    "        else:\n",
    "            births_by_dow[day] = birth\n",
    "    return births_by_dow"
   ]
  },
  {
   "cell_type": "code",
   "execution_count": 8,
   "metadata": {
    "collapsed": false,
    "scrolled": true
   },
   "outputs": [
    {
     "data": {
      "text/plain": [
       "{1: 5789166,\n",
       " 2: 6446196,\n",
       " 3: 6322855,\n",
       " 4: 6288429,\n",
       " 5: 6233657,\n",
       " 6: 4562111,\n",
       " 7: 4079723}"
      ]
     },
     "execution_count": 8,
     "metadata": {},
     "output_type": "execute_result"
    }
   ],
   "source": [
    "cdc_dow_births = dow_births(cdc_births)\n",
    "cdc_dow_births"
   ]
  },
  {
   "cell_type": "markdown",
   "metadata": {},
   "source": [
    "Is there a reason the lowest births happen on **Friday or Saturday**? Is it because most doctors take those days off?"
   ]
  },
  {
   "cell_type": "markdown",
   "metadata": {},
   "source": [
    "## 5.- Create `count_column()` function\n",
    "\n",
    "Define a function that takes a two required arguments: data and column, and calculates the **total of each unique value in the column**."
   ]
  },
  {
   "cell_type": "code",
   "execution_count": 9,
   "metadata": {
    "collapsed": true
   },
   "outputs": [],
   "source": [
    "def calc_counts(read_csv, column):\n",
    "    births_by_column = {}\n",
    "    for row in read_csv:\n",
    "        selected_column = row[column]\n",
    "        birth = row[-1]\n",
    "        if selected_column in births_by_column:\n",
    "            births_by_column[selected_column] += birth\n",
    "        else:\n",
    "            births_by_column[selected_column] = birth\n",
    "    return births_by_column"
   ]
  },
  {
   "cell_type": "code",
   "execution_count": 10,
   "metadata": {
    "collapsed": false
   },
   "outputs": [
    {
     "data": {
      "text/plain": [
       "{1994: 3952767,\n",
       " 1995: 3899589,\n",
       " 1996: 3891494,\n",
       " 1997: 3880894,\n",
       " 1998: 3941553,\n",
       " 1999: 3959417,\n",
       " 2000: 4058814,\n",
       " 2001: 4025933,\n",
       " 2002: 4021726,\n",
       " 2003: 4089950}"
      ]
     },
     "execution_count": 10,
     "metadata": {},
     "output_type": "execute_result"
    }
   ],
   "source": [
    "cdc_year_births = calc_counts(cdc_births,0)\n",
    "cdc_year_births"
   ]
  },
  {
   "cell_type": "code",
   "execution_count": 11,
   "metadata": {
    "collapsed": false,
    "scrolled": true
   },
   "outputs": [
    {
     "data": {
      "text/plain": [
       "{1: 3232517,\n",
       " 2: 3018140,\n",
       " 3: 3322069,\n",
       " 4: 3185314,\n",
       " 5: 3350907,\n",
       " 6: 3296530,\n",
       " 7: 3498783,\n",
       " 8: 3525858,\n",
       " 9: 3439698,\n",
       " 10: 3378814,\n",
       " 11: 3171647,\n",
       " 12: 3301860}"
      ]
     },
     "execution_count": 11,
     "metadata": {},
     "output_type": "execute_result"
    }
   ],
   "source": [
    "cdc_month_births = calc_counts(cdc_births,1)\n",
    "cdc_month_births"
   ]
  },
  {
   "cell_type": "code",
   "execution_count": 12,
   "metadata": {
    "collapsed": false
   },
   "outputs": [
    {
     "data": {
      "text/plain": [
       "{1: 1276557,\n",
       " 2: 1288739,\n",
       " 3: 1304499,\n",
       " 4: 1288154,\n",
       " 5: 1299953,\n",
       " 6: 1304474,\n",
       " 7: 1310459,\n",
       " 8: 1312297,\n",
       " 9: 1303292,\n",
       " 10: 1320764,\n",
       " 11: 1314361,\n",
       " 12: 1318437,\n",
       " 13: 1277684,\n",
       " 14: 1320153,\n",
       " 15: 1319171,\n",
       " 16: 1315192,\n",
       " 17: 1324953,\n",
       " 18: 1326855,\n",
       " 19: 1318727,\n",
       " 20: 1324821,\n",
       " 21: 1322897,\n",
       " 22: 1317381,\n",
       " 23: 1293290,\n",
       " 24: 1288083,\n",
       " 25: 1272116,\n",
       " 26: 1284796,\n",
       " 27: 1294395,\n",
       " 28: 1307685,\n",
       " 29: 1223161,\n",
       " 30: 1202095,\n",
       " 31: 746696}"
      ]
     },
     "execution_count": 12,
     "metadata": {},
     "output_type": "execute_result"
    }
   ],
   "source": [
    "cdc_dom_births = calc_counts(cdc_births,2)\n",
    "cdc_dom_births"
   ]
  },
  {
   "cell_type": "code",
   "execution_count": 13,
   "metadata": {
    "collapsed": false
   },
   "outputs": [
    {
     "data": {
      "text/plain": [
       "{1: 5789166,\n",
       " 2: 6446196,\n",
       " 3: 6322855,\n",
       " 4: 6288429,\n",
       " 5: 6233657,\n",
       " 6: 4562111,\n",
       " 7: 4079723}"
      ]
     },
     "execution_count": 13,
     "metadata": {},
     "output_type": "execute_result"
    }
   ],
   "source": [
    "cdc_dow_births = calc_counts(cdc_births,3)\n",
    "cdc_dow_births"
   ]
  },
  {
   "cell_type": "markdown",
   "metadata": {},
   "source": [
    "This function gives more flexibility, as code can be reused to analyze different columns."
   ]
  },
  {
   "cell_type": "markdown",
   "metadata": {},
   "source": [
    "## 6.- Create `max_min()` function\n",
    "\n",
    "Define a function that calculates the min and max values for any dictionary that's passed in."
   ]
  },
  {
   "cell_type": "code",
   "execution_count": 14,
   "metadata": {
    "collapsed": true
   },
   "outputs": [],
   "source": [
    "def max_min(dictionary):\n",
    "    max_value = 0\n",
    "    min_value = 0\n",
    "    for row in dictionary:\n",
    "        if min_value == 0: #This will happen only in the first loop\n",
    "            min_value = dictionary[row]\n",
    "        if dictionary[row] > max_value:\n",
    "            max_value = dictionary[row]\n",
    "        if dictionary[row] < min_value:\n",
    "            min_value = dictionary[row]\n",
    "    return print(\"Max value =\", max_value, \"\\nMin value =\", min_value)"
   ]
  },
  {
   "cell_type": "code",
   "execution_count": 15,
   "metadata": {
    "collapsed": false,
    "scrolled": false
   },
   "outputs": [
    {
     "name": "stdout",
     "output_type": "stream",
     "text": [
      "Max value = 1326855 \n",
      "Min value = 746696\n"
     ]
    }
   ],
   "source": [
    "max_min_year = max_min(cdc_dom_births)\n",
    "max_min_year"
   ]
  },
  {
   "cell_type": "markdown",
   "metadata": {},
   "source": [
    "## 7.- Create `compare_value()` function\n",
    "\n",
    "Define a function that extracts the same values across years and calculates the difference between consecutive values."
   ]
  },
  {
   "cell_type": "code",
   "execution_count": 16,
   "metadata": {
    "collapsed": false
   },
   "outputs": [],
   "source": [
    "def compare_value(read_csv, year1, year2, column, value): #Value is month or day_of_week or day_of_month\n",
    "    year1_dict = {}\n",
    "    year2_dict = {}\n",
    "    \n",
    "    for row in read_csv:\n",
    "        if row[0] == year1:\n",
    "            selected_column = row[column]\n",
    "            birth = row[-1]\n",
    "            if selected_column in year1_dict:\n",
    "                year1_dict[selected_column] += birth\n",
    "            else:\n",
    "                year1_dict[selected_column] = birth\n",
    "            \n",
    "        if row[0] == year2:\n",
    "            selected_column = row[column]\n",
    "            birth = row[-1]\n",
    "            if selected_column in year2_dict:\n",
    "                year2_dict[selected_column] += birth\n",
    "            else:\n",
    "                year2_dict[selected_column] = birth\n",
    "    \n",
    "    comparison = year1_dict[value] - year2_dict[value]\n",
    "    \n",
    "    if comparison > 0:\n",
    "        text = \"increased\"\n",
    "    else:\n",
    "        text = \"decreased\"\n",
    "        comparison = comparison * -1\n",
    "        \n",
    "    return print(\"Births between\", year1, \"and\", year2, text, \"by\", comparison, \"for the selected input.\")"
   ]
  },
  {
   "cell_type": "code",
   "execution_count": 17,
   "metadata": {
    "collapsed": false
   },
   "outputs": [
    {
     "name": "stdout",
     "output_type": "stream",
     "text": [
      "Births between 1994 and 2003 decreased by 9098 for the selected input.\n",
      "Births between 1994 and 2003 decreased by 16831 for the selected input.\n"
     ]
    }
   ],
   "source": [
    "compare_value(cdc_births,1994,2003,1,1) #Last input is the month of January.\n",
    "compare_value(cdc_births,1994,2003,1,12)"
   ]
  },
  {
   "cell_type": "markdown",
   "metadata": {},
   "source": [
    "In the example above, I compared how births changed from January 1994 to January 2003 and December 1994 to December 2003."
   ]
  },
  {
   "cell_type": "markdown",
   "metadata": {},
   "source": [
    "## 8.- Combine CDC Data with SSA Data.\n",
    "\n",
    "There is another set of data provided by the SSA, that ranges from 2000 to 2014, and uses the same column structure as the CDC. First I will explore the overlapped data, and decide the best way to combine them in single Database."
   ]
  },
  {
   "cell_type": "code",
   "execution_count": 18,
   "metadata": {
    "collapsed": true
   },
   "outputs": [],
   "source": [
    "ssa_births = read_csv(\"US_births_2000-2014_SSA.csv\")"
   ]
  },
  {
   "cell_type": "code",
   "execution_count": 19,
   "metadata": {
    "collapsed": false
   },
   "outputs": [
    {
     "name": "stdout",
     "output_type": "stream",
     "text": [
      "Births between 2000 and 2001 decreased by 5090 for the selected input.\n",
      "Births between 2000 and 2001 decreased by 4640 for the selected input.\n"
     ]
    }
   ],
   "source": [
    "compare_value(cdc_births,2000,2001,1,1)\n",
    "compare_value(ssa_births,2000,2001,1,1)"
   ]
  },
  {
   "cell_type": "code",
   "execution_count": 20,
   "metadata": {
    "collapsed": false
   },
   "outputs": [
    {
     "name": "stdout",
     "output_type": "stream",
     "text": [
      "Births between 2001 and 2002 increased by 4524 for the selected input.\n",
      "Births between 2001 and 2002 increased by 4907 for the selected input.\n"
     ]
    }
   ],
   "source": [
    "compare_value(cdc_births,2001,2002,1,1)\n",
    "compare_value(ssa_births,2001,2002,1,1)"
   ]
  },
  {
   "cell_type": "code",
   "execution_count": 21,
   "metadata": {
    "collapsed": false
   },
   "outputs": [
    {
     "name": "stdout",
     "output_type": "stream",
     "text": [
      "Births between 2000 and 2001 increased by 19335 for the selected input.\n",
      "Births between 2000 and 2001 increased by 20384 for the selected input.\n"
     ]
    }
   ],
   "source": [
    "compare_value(cdc_births,2000,2001,3,7)\n",
    "compare_value(ssa_births,2000,2001,3,7)"
   ]
  },
  {
   "cell_type": "code",
   "execution_count": 22,
   "metadata": {
    "collapsed": false
   },
   "outputs": [
    {
     "name": "stdout",
     "output_type": "stream",
     "text": [
      "Births between 2001 and 2002 increased by 6887 for the selected input.\n",
      "Births between 2001 and 2002 increased by 7355 for the selected input.\n"
     ]
    }
   ],
   "source": [
    "compare_value(cdc_births,2001,2002,2,6)\n",
    "compare_value(ssa_births,2001,2002,2,6)"
   ]
  },
  {
   "cell_type": "code",
   "execution_count": 23,
   "metadata": {
    "collapsed": false
   },
   "outputs": [
    {
     "name": "stdout",
     "output_type": "stream",
     "text": [
      "Births between 2002 and 2003 decreased by 9243 for the selected input.\n",
      "Births between 2002 and 2003 decreased by 8735 for the selected input.\n"
     ]
    }
   ],
   "source": [
    "compare_value(cdc_births,2002,2003,3,2)\n",
    "compare_value(ssa_births,2002,2003,3,2)"
   ]
  },
  {
   "cell_type": "code",
   "execution_count": 24,
   "metadata": {
    "collapsed": false
   },
   "outputs": [
    {
     "data": {
      "text/plain": [
       "1.0969827586206897"
      ]
     },
     "execution_count": 24,
     "metadata": {},
     "output_type": "execute_result"
    }
   ],
   "source": [
    "5090 / 4640"
   ]
  },
  {
   "cell_type": "code",
   "execution_count": 25,
   "metadata": {
    "collapsed": false
   },
   "outputs": [
    {
     "data": {
      "text/plain": [
       "0.9219482372121459"
      ]
     },
     "execution_count": 25,
     "metadata": {},
     "output_type": "execute_result"
    }
   ],
   "source": [
    "4524 / 4907"
   ]
  },
  {
   "cell_type": "code",
   "execution_count": 26,
   "metadata": {
    "collapsed": false
   },
   "outputs": [
    {
     "data": {
      "text/plain": [
       "0.9485380690737834"
      ]
     },
     "execution_count": 26,
     "metadata": {},
     "output_type": "execute_result"
    }
   ],
   "source": [
    "19335 / 20384"
   ]
  },
  {
   "cell_type": "code",
   "execution_count": 27,
   "metadata": {
    "collapsed": false
   },
   "outputs": [
    {
     "data": {
      "text/plain": [
       "0.9363698164513936"
      ]
     },
     "execution_count": 27,
     "metadata": {},
     "output_type": "execute_result"
    }
   ],
   "source": [
    "6887 / 7355"
   ]
  },
  {
   "cell_type": "code",
   "execution_count": 28,
   "metadata": {
    "collapsed": false
   },
   "outputs": [
    {
     "data": {
      "text/plain": [
       "1.0581568402976531"
      ]
     },
     "execution_count": 28,
     "metadata": {},
     "output_type": "execute_result"
    }
   ],
   "source": [
    "9243 / 8735"
   ]
  },
  {
   "cell_type": "markdown",
   "metadata": {},
   "source": [
    "Births seem to be +-10% from each other. For me, it makes sense to average between them. So now, how to combine them?"
   ]
  },
  {
   "cell_type": "markdown",
   "metadata": {},
   "source": [
    "## 9.- Create `combine_csv_by_ave()` function\n",
    "\n",
    "Create a function that combines data using averages from overlapping years."
   ]
  },
  {
   "cell_type": "code",
   "execution_count": 29,
   "metadata": {
    "collapsed": false
   },
   "outputs": [],
   "source": [
    "def combine_csv_by_ave(read_csv1, read_csv2, overlapyear):\n",
    "    combined_csv = []\n",
    "    count = 0\n",
    "    count2 = 0\n",
    "    for row in read_csv1:\n",
    "        if row[0] < overlapyear:\n",
    "            combined_csv.append(row)\n",
    "            count += 1\n",
    "    for row in read_csv1[count:]:\n",
    "        ave_birth = int((row[-1] + read_csv2[count2][-1])//2)\n",
    "        row[-1] = ave_birth\n",
    "        combined_csv.append(row)\n",
    "        count2 += 1\n",
    "    for row in read_csv2[count2:]:\n",
    "        combined_csv.append(row)\n",
    "    return(combined_csv)"
   ]
  },
  {
   "cell_type": "code",
   "execution_count": 30,
   "metadata": {
    "collapsed": false
   },
   "outputs": [],
   "source": [
    "cdc_ssa_births = combine_csv_by_ave(cdc_births,ssa_births,2000)"
   ]
  },
  {
   "cell_type": "code",
   "execution_count": 31,
   "metadata": {
    "collapsed": false
   },
   "outputs": [
    {
     "data": {
      "text/plain": [
       "[[1999, 12, 29, 3, 12629],\n",
       " [1999, 12, 30, 4, 11935],\n",
       " [1999, 12, 31, 5, 9335],\n",
       " [2000, 1, 1, 6, 8963],\n",
       " [2000, 1, 2, 7, 7911],\n",
       " [2000, 1, 3, 1, 11243],\n",
       " [2000, 1, 4, 2, 12867]]"
      ]
     },
     "execution_count": 31,
     "metadata": {},
     "output_type": "execute_result"
    }
   ],
   "source": [
    "cdc_ssa_births[2188:2195]"
   ]
  },
  {
   "cell_type": "code",
   "execution_count": 32,
   "metadata": {
    "collapsed": false
   },
   "outputs": [
    {
     "data": {
      "text/plain": [
       "8963.0"
      ]
     },
     "execution_count": 32,
     "metadata": {},
     "output_type": "execute_result"
    }
   ],
   "source": [
    "(8843+9083)/2"
   ]
  },
  {
   "cell_type": "code",
   "execution_count": 33,
   "metadata": {
    "collapsed": false,
    "scrolled": true
   },
   "outputs": [
    {
     "data": {
      "text/plain": [
       "7911.0"
      ]
     },
     "execution_count": 33,
     "metadata": {},
     "output_type": "execute_result"
    }
   ],
   "source": [
    "(7816+8006)/2"
   ]
  },
  {
   "cell_type": "markdown",
   "metadata": {},
   "source": [
    "The function succesfully combines both datasets, but only if the funcion is called once. It seems Python handles the id of the list and the calculations fail. Lets see what new informatio this complete dasaset provides."
   ]
  },
  {
   "cell_type": "code",
   "execution_count": 34,
   "metadata": {
    "collapsed": false
   },
   "outputs": [
    {
     "data": {
      "text/plain": [
       "{1994: 3952767,\n",
       " 1995: 3899589,\n",
       " 1996: 3891494,\n",
       " 1997: 3880894,\n",
       " 1998: 3941553,\n",
       " 1999: 3959417,\n",
       " 2000: 4104119,\n",
       " 2001: 4068359,\n",
       " 2002: 4060428,\n",
       " 2003: 4126419,\n",
       " 2004: 4186863,\n",
       " 2005: 4211941,\n",
       " 2006: 4335154,\n",
       " 2007: 4380784,\n",
       " 2008: 4310737,\n",
       " 2009: 4190991,\n",
       " 2010: 4055975,\n",
       " 2011: 4006908,\n",
       " 2012: 4000868,\n",
       " 2013: 3973337,\n",
       " 2014: 4010532}"
      ]
     },
     "execution_count": 34,
     "metadata": {},
     "output_type": "execute_result"
    }
   ],
   "source": [
    "cdc_ssa_years = calc_counts(cdc_ssa_births,0)\n",
    "cdc_ssa_years"
   ]
  },
  {
   "cell_type": "code",
   "execution_count": 35,
   "metadata": {
    "collapsed": false,
    "scrolled": true
   },
   "outputs": [
    {
     "data": {
      "text/plain": [
       "{1: 6965310,\n",
       " 2: 6499459,\n",
       " 3: 7134617,\n",
       " 4: 6838762,\n",
       " 5: 7162927,\n",
       " 6: 7110295,\n",
       " 7: 7514008,\n",
       " 8: 7610244,\n",
       " 9: 7425952,\n",
       " 10: 7278923,\n",
       " 11: 6869491,\n",
       " 12: 7139141}"
      ]
     },
     "execution_count": 35,
     "metadata": {},
     "output_type": "execute_result"
    }
   ],
   "source": [
    "cdc_ssa_months = calc_counts(cdc_ssa_births,1)\n",
    "cdc_ssa_months"
   ]
  },
  {
   "cell_type": "code",
   "execution_count": 36,
   "metadata": {
    "collapsed": false
   },
   "outputs": [
    {
     "data": {
      "text/plain": [
       "{1: 12696731,\n",
       " 2: 14044930,\n",
       " 3: 13803846,\n",
       " 4: 13717707,\n",
       " 5: 13497703,\n",
       " 6: 9433618,\n",
       " 7: 8354594}"
      ]
     },
     "execution_count": 36,
     "metadata": {},
     "output_type": "execute_result"
    }
   ],
   "source": [
    "cdc_ssa_dow = calc_counts(cdc_ssa_births,3)\n",
    "cdc_ssa_dow"
   ]
  },
  {
   "cell_type": "code",
   "execution_count": 37,
   "metadata": {
    "collapsed": false
   },
   "outputs": [
    {
     "name": "stdout",
     "output_type": "stream",
     "text": [
      "Births between 1994 and 2014 decreased by 9257 for the selected input.\n"
     ]
    }
   ],
   "source": [
    "compare_value(cdc_ssa_births,1994,2014,1,1)"
   ]
  },
  {
   "cell_type": "markdown",
   "metadata": {},
   "source": [
    "I'll do some analysis of the combined data."
   ]
  },
  {
   "cell_type": "code",
   "execution_count": 38,
   "metadata": {
    "collapsed": false
   },
   "outputs": [
    {
     "name": "stdout",
     "output_type": "stream",
     "text": [
      "4073768\n"
     ]
    }
   ],
   "source": [
    "total = 0\n",
    "for key in cdc_ssa_years:\n",
    "    total = cdc_ssa_years[key] + total\n",
    "    ave_total = int(total/len(cdc_ssa_years))\n",
    "print(ave_total)"
   ]
  },
  {
   "cell_type": "code",
   "execution_count": 39,
   "metadata": {
    "collapsed": false,
    "scrolled": true
   },
   "outputs": [
    {
     "name": "stdout",
     "output_type": "stream",
     "text": [
      "Max value = 4380784 \n",
      "Min value = 3880894\n"
     ]
    }
   ],
   "source": [
    "max_min_year_combined = max_min(cdc_ssa_years)"
   ]
  },
  {
   "cell_type": "code",
   "execution_count": 40,
   "metadata": {
    "collapsed": false,
    "scrolled": true
   },
   "outputs": [
    {
     "data": {
      "text/plain": [
       "-307016"
      ]
     },
     "execution_count": 40,
     "metadata": {},
     "output_type": "execute_result"
    }
   ],
   "source": [
    "4073768 - 4380784"
   ]
  },
  {
   "cell_type": "code",
   "execution_count": 41,
   "metadata": {
    "collapsed": false,
    "scrolled": true
   },
   "outputs": [
    {
     "data": {
      "text/plain": [
       "192874"
      ]
     },
     "execution_count": 41,
     "metadata": {},
     "output_type": "execute_result"
    }
   ],
   "source": [
    "4073768 - 3880894"
   ]
  },
  {
   "cell_type": "code",
   "execution_count": 42,
   "metadata": {
    "collapsed": false,
    "scrolled": true
   },
   "outputs": [
    {
     "data": {
      "text/plain": [
       "0.07536413462916887"
      ]
     },
     "execution_count": 42,
     "metadata": {},
     "output_type": "execute_result"
    }
   ],
   "source": [
    "307016 / 4073768"
   ]
  },
  {
   "cell_type": "code",
   "execution_count": 43,
   "metadata": {
    "collapsed": false
   },
   "outputs": [
    {
     "data": {
      "text/plain": [
       "0.04734535692754226"
      ]
     },
     "execution_count": 43,
     "metadata": {},
     "output_type": "execute_result"
    }
   ],
   "source": [
    "192874 / 4073768"
   ]
  },
  {
   "cell_type": "markdown",
   "metadata": {},
   "source": [
    "## 10.- Closing Commentary\n",
    "\n",
    "These are my findings after reviewing both CDC and SSA data, and doing simple analysis:\n",
    "* August is the month with most births across time. This seems to verify the assumption that December is the month with more conception.\n",
    "* Birth rates have not increased exponentially. It seems to be controlled by unknown factors.\n",
    "* Total Births ranges from +7.53% to -4.73% year to year.\n",
    "* Friday and Saturday account for the least births in the week. As stated above, it seems to correspond to doctors normally not being on call those days.\n",
    "\n",
    "Take aways:\n",
    "* Market birth control more heavily during the holidays, develop strategy of awareness.\n",
    "* Compare birth rates of US to global indicators and other countries for mor insight.\n",
    "* Extend data up and down 10 more years to more accurately depict range.\n",
    "* Provide more medical service on Friday and Saturday, e.g. discounts for having your baby born during the weekend."
   ]
  }
 ],
 "metadata": {
  "anaconda-cloud": {},
  "kernelspec": {
   "display_name": "Python 3",
   "language": "python",
   "name": "python3"
  },
  "language_info": {
   "codemirror_mode": {
    "name": "ipython",
    "version": 3
   },
   "file_extension": ".py",
   "mimetype": "text/x-python",
   "name": "python",
   "nbconvert_exporter": "python",
   "pygments_lexer": "ipython3",
   "version": "3.5.5"
  }
 },
 "nbformat": 4,
 "nbformat_minor": 2
}
