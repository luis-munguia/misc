{
 "cells": [
  {
   "cell_type": "markdown",
   "metadata": {
    "collapsed": true
   },
   "source": [
    "# Guided Project #1.5 - Profitable App Profiles for the App Store and Google Play Markets\n",
    "\n",
    "By [Luis Munguia](http://www.linkedin.com/in/luis-munguia) and [Dataquest](http://www.dataquest.io)\n",
    "\n",
    "In this project, I'll work with a dataset on Mobile App Data compiled by a Data Scientist in Kaggle.\n",
    "\n",
    "The goal is to analyze data to understand which type of apps are likely to attract more users.\n",
    "\n",
    "The data contains the following columns:\n",
    "\n"
   ]
  },
  {
   "cell_type": "markdown",
   "metadata": {},
   "source": [
    "## 1.- Opening and Exploring the Data.\n",
    "Create a function called `explore_data()` that takes four parameters: `dataset`, `start`, `end` and `rows_and_columns` default argument with `False`.\n",
    "\n",
    "Also create a function to open Data sets and create lists of lists."
   ]
  },
  {
   "cell_type": "code",
   "execution_count": 1,
   "metadata": {
    "collapsed": true
   },
   "outputs": [],
   "source": [
    "def open_dataset(dataset):\n",
    "    opened_file = open(dataset)\n",
    "    from csv import reader\n",
    "    read_file = reader(opened_file)\n",
    "    return list(read_file)"
   ]
  },
  {
   "cell_type": "code",
   "execution_count": 2,
   "metadata": {
    "collapsed": false
   },
   "outputs": [],
   "source": [
    "apple = open_dataset('AppleStore.csv')\n",
    "google = open_dataset('googleplaystore.csv')"
   ]
  },
  {
   "cell_type": "code",
   "execution_count": 3,
   "metadata": {
    "collapsed": true
   },
   "outputs": [],
   "source": [
    "def explore_data(dataset, start, end, rows_and_columns = False):\n",
    "    dataset_slice = dataset[start:end]\n",
    "    for row in dataset_slice:\n",
    "        print(row, '\\n')\n",
    "        \n",
    "    if rows_and_columns:\n",
    "        print('Number of rows:', len(dataset))\n",
    "        print('Number of columns:', len(dataset[0]))\n"
   ]
  },
  {
   "cell_type": "code",
   "execution_count": 4,
   "metadata": {
    "collapsed": false
   },
   "outputs": [
    {
     "name": "stdout",
     "output_type": "stream",
     "text": [
      "['id', 'track_name', 'size_bytes', 'currency', 'price', 'rating_count_tot', 'rating_count_ver', 'user_rating', 'user_rating_ver', 'ver', 'cont_rating', 'prime_genre', 'sup_devices.num', 'ipadSc_urls.num', 'lang.num', 'vpp_lic'] \n",
      "\n",
      "['284882215', 'Facebook', '389879808', 'USD', '0.0', '2974676', '212', '3.5', '3.5', '95.0', '4+', 'Social Networking', '37', '1', '29', '1'] \n",
      "\n",
      "['389801252', 'Instagram', '113954816', 'USD', '0.0', '2161558', '1289', '4.5', '4.0', '10.23', '12+', 'Photo & Video', '37', '0', '29', '1'] \n",
      "\n",
      "Number of rows: 7198\n",
      "Number of columns: 16\n"
     ]
    }
   ],
   "source": [
    "explore_data(apple,0,3,True)"
   ]
  },
  {
   "cell_type": "code",
   "execution_count": 5,
   "metadata": {
    "collapsed": false
   },
   "outputs": [
    {
     "name": "stdout",
     "output_type": "stream",
     "text": [
      "['App', 'Category', 'Rating', 'Reviews', 'Size', 'Installs', 'Type', 'Price', 'Content Rating', 'Genres', 'Last Updated', 'Current Ver', 'Android Ver'] \n",
      "\n",
      "['Photo Editor & Candy Camera & Grid & ScrapBook', 'ART_AND_DESIGN', '4.1', '159', '19M', '10,000+', 'Free', '0', 'Everyone', 'Art & Design', 'January 7, 2018', '1.0.0', '4.0.3 and up'] \n",
      "\n",
      "['Coloring book moana', 'ART_AND_DESIGN', '3.9', '967', '14M', '500,000+', 'Free', '0', 'Everyone', 'Art & Design;Pretend Play', 'January 15, 2018', '2.0.0', '4.0.3 and up'] \n",
      "\n",
      "Number of rows: 10842\n",
      "Number of columns: 13\n"
     ]
    }
   ],
   "source": [
    "explore_data(google,0,3,True)"
   ]
  },
  {
   "cell_type": "code",
   "execution_count": 6,
   "metadata": {
    "collapsed": false
   },
   "outputs": [
    {
     "name": "stdout",
     "output_type": "stream",
     "text": [
      "['App', 'Category', 'Rating', 'Reviews', 'Size', 'Installs', 'Type', 'Price', 'Content Rating', 'Genres', 'Last Updated', 'Current Ver', 'Android Ver'] \n",
      " ['id', 'track_name', 'size_bytes', 'currency', 'price', 'rating_count_tot', 'rating_count_ver', 'user_rating', 'user_rating_ver', 'ver', 'cont_rating', 'prime_genre', 'sup_devices.num', 'ipadSc_urls.num', 'lang.num', 'vpp_lic']\n"
     ]
    }
   ],
   "source": [
    "print(google[0], '\\n', apple[0])"
   ]
  },
  {
   "cell_type": "markdown",
   "metadata": {},
   "source": [
    "The most important columns to analyze are:\n",
    "\n",
    "* Type\n",
    "* Price\n",
    "* Genre\n",
    "* Rating\n",
    "* Reviews"
   ]
  },
  {
   "cell_type": "markdown",
   "metadata": {},
   "source": [
    "## 2.- Deleting Wrong Data\n",
    "Do data cleaning (80% of the work a Data Scientist does). According to the discussion section of the google dataset, there is a row with an error and must be deleted. [Discussion section.](https://www.kaggle.com/lava18/google-play-store-apps/discussion/66015)"
   ]
  },
  {
   "cell_type": "code",
   "execution_count": 7,
   "metadata": {
    "collapsed": false
   },
   "outputs": [
    {
     "name": "stdout",
     "output_type": "stream",
     "text": [
      "['App', 'Category', 'Rating', 'Reviews', 'Size', 'Installs', 'Type', 'Price', 'Content Rating', 'Genres', 'Last Updated', 'Current Ver', 'Android Ver'] \n",
      " ['Life Made WI-Fi Touchscreen Photo Frame', '1.9', '19', '3.0M', '1,000+', 'Free', '0', 'Everyone', '', 'February 11, 2018', '1.0.19', '4.0 and up']\n"
     ]
    }
   ],
   "source": [
    "print(google[0], '\\n', google[10473])"
   ]
  },
  {
   "cell_type": "markdown",
   "metadata": {},
   "source": [
    "This row must be deleted."
   ]
  },
  {
   "cell_type": "code",
   "execution_count": 8,
   "metadata": {
    "collapsed": true
   },
   "outputs": [],
   "source": [
    "del google[10473]"
   ]
  },
  {
   "cell_type": "markdown",
   "metadata": {},
   "source": [
    "## 3.- Removing Duplicate Entries: Part One\n",
    "For the google dataset, now I'll check if there are no duplicate entries, and delete the duplicates while trying to conserve the integrity of the data."
   ]
  },
  {
   "cell_type": "code",
   "execution_count": 9,
   "metadata": {
    "collapsed": false
   },
   "outputs": [
    {
     "name": "stdout",
     "output_type": "stream",
     "text": [
      "Number of duplicate apps: 1181 \n",
      "\n",
      "Examples of duplicate apps: ['Quick PDF Scanner + OCR FREE', 'Box', 'Google My Business', 'ZOOM Cloud Meetings', 'join.me - Simple Meetings', 'Box', 'Zenefits', 'Google Ads', 'Google My Business', 'Slack', 'FreshBooks Classic', 'Insightly CRM', 'QuickBooks Accounting: Invoicing & Expenses', 'HipChat - Chat Built for Teams', 'Xero Accounting Software']\n"
     ]
    }
   ],
   "source": [
    "duplicate_apps = []\n",
    "unique_apps = []\n",
    "for app in google:\n",
    "    name = app[0]\n",
    "    if name in unique_apps:\n",
    "        duplicate_apps.append(name)\n",
    "    else:\n",
    "        unique_apps.append(name)\n",
    "        \n",
    "print('Number of duplicate apps:', len(duplicate_apps), '\\n')\n",
    "print('Examples of duplicate apps:', duplicate_apps[:15])"
   ]
  },
  {
   "cell_type": "code",
   "execution_count": 10,
   "metadata": {
    "collapsed": false
   },
   "outputs": [
    {
     "name": "stdout",
     "output_type": "stream",
     "text": [
      "['Box', 'BUSINESS', '4.2', '159872', 'Varies with device', '10,000,000+', 'Free', '0', 'Everyone', 'Business', 'July 31, 2018', 'Varies with device', 'Varies with device']\n",
      "['Box', 'BUSINESS', '4.2', '159872', 'Varies with device', '10,000,000+', 'Free', '0', 'Everyone', 'Business', 'July 31, 2018', 'Varies with device', 'Varies with device']\n",
      "['Box', 'BUSINESS', '4.2', '159872', 'Varies with device', '10,000,000+', 'Free', '0', 'Everyone', 'Business', 'July 31, 2018', 'Varies with device', 'Varies with device']\n"
     ]
    }
   ],
   "source": [
    "def check_duplicates(app_name):\n",
    "    for app in google:\n",
    "        name = app[0]\n",
    "        if name == app_name:\n",
    "            print(app)\n",
    "            \n",
    "check_duplicates(\"Box\")"
   ]
  },
  {
   "cell_type": "code",
   "execution_count": 11,
   "metadata": {
    "collapsed": false
   },
   "outputs": [
    {
     "name": "stdout",
     "output_type": "stream",
     "text": [
      "['Slack', 'BUSINESS', '4.4', '51507', 'Varies with device', '5,000,000+', 'Free', '0', 'Everyone', 'Business', 'August 2, 2018', 'Varies with device', 'Varies with device']\n",
      "['Slack', 'BUSINESS', '4.4', '51507', 'Varies with device', '5,000,000+', 'Free', '0', 'Everyone', 'Business', 'August 2, 2018', 'Varies with device', 'Varies with device']\n",
      "['Slack', 'BUSINESS', '4.4', '51510', 'Varies with device', '5,000,000+', 'Free', '0', 'Everyone', 'Business', 'August 2, 2018', 'Varies with device', 'Varies with device']\n"
     ]
    }
   ],
   "source": [
    "check_duplicates('Slack')"
   ]
  },
  {
   "cell_type": "code",
   "execution_count": 12,
   "metadata": {
    "collapsed": false
   },
   "outputs": [
    {
     "name": "stdout",
     "output_type": "stream",
     "text": [
      "['Google Ads', 'BUSINESS', '4.3', '29313', '20M', '5,000,000+', 'Free', '0', 'Everyone', 'Business', 'July 30, 2018', '1.12.0', '4.0.3 and up']\n",
      "['Google Ads', 'BUSINESS', '4.3', '29313', '20M', '5,000,000+', 'Free', '0', 'Everyone', 'Business', 'July 30, 2018', '1.12.0', '4.0.3 and up']\n",
      "['Google Ads', 'BUSINESS', '4.3', '29331', '20M', '5,000,000+', 'Free', '0', 'Everyone', 'Business', 'July 30, 2018', '1.12.0', '4.0.3 and up']\n"
     ]
    }
   ],
   "source": [
    "check_duplicates('Google Ads')"
   ]
  },
  {
   "cell_type": "code",
   "execution_count": 13,
   "metadata": {
    "collapsed": false
   },
   "outputs": [
    {
     "name": "stdout",
     "output_type": "stream",
     "text": [
      "['Zenefits', 'BUSINESS', '4.2', '296', '14M', '50,000+', 'Free', '0', 'Everyone', 'Business', 'June 15, 2018', '3.2.1', '4.1 and up']\n",
      "['Zenefits', 'BUSINESS', '4.2', '296', '14M', '50,000+', 'Free', '0', 'Everyone', 'Business', 'June 15, 2018', '3.2.1', '4.1 and up']\n"
     ]
    }
   ],
   "source": [
    "check_duplicates('Zenefits')"
   ]
  },
  {
   "cell_type": "code",
   "execution_count": 14,
   "metadata": {
    "collapsed": false
   },
   "outputs": [
    {
     "name": "stdout",
     "output_type": "stream",
     "text": [
      "['Facebook', 'SOCIAL', '4.1', '78158306', 'Varies with device', '1,000,000,000+', 'Free', '0', 'Teen', 'Social', 'August 3, 2018', 'Varies with device', 'Varies with device']\n",
      "['Facebook', 'SOCIAL', '4.1', '78128208', 'Varies with device', '1,000,000,000+', 'Free', '0', 'Teen', 'Social', 'August 3, 2018', 'Varies with device', 'Varies with device']\n"
     ]
    }
   ],
   "source": [
    "check_duplicates('Facebook')"
   ]
  },
  {
   "cell_type": "markdown",
   "metadata": {},
   "source": [
    "It seems that in some apps, the number of reviews is the only difference, but other apps have the same number of reviews. The good thing about this is that is seems the rows in theses cases are an exact copy, so deleting any will sufice for the analysis."
   ]
  },
  {
   "cell_type": "markdown",
   "metadata": {},
   "source": [
    "## 4.- Removing Duplicate Entries: Part Two\n",
    "It's time to delete the duplicate entries using dictionaries and loops."
   ]
  },
  {
   "cell_type": "code",
   "execution_count": 15,
   "metadata": {
    "collapsed": false
   },
   "outputs": [],
   "source": [
    "reviews_max = {}\n",
    "\n",
    "for app in google[1:]:\n",
    "    name = app[0]\n",
    "    n_reviews = float(app[3])\n",
    "    \n",
    "    if name in reviews_max and reviews_max[name] < n_reviews:\n",
    "        reviews_max[name] = n_reviews\n",
    "    elif name not in reviews_max:\n",
    "        reviews_max[name] = n_reviews       "
   ]
  },
  {
   "cell_type": "code",
   "execution_count": 16,
   "metadata": {
    "collapsed": false
   },
   "outputs": [
    {
     "name": "stdout",
     "output_type": "stream",
     "text": [
      "Expected length: 9659\n"
     ]
    },
    {
     "data": {
      "text/plain": [
       "9659"
      ]
     },
     "execution_count": 16,
     "metadata": {},
     "output_type": "execute_result"
    }
   ],
   "source": [
    "print('Expected length:', len(google[1:]) - len(duplicate_apps))\n",
    "len(reviews_max)"
   ]
  },
  {
   "cell_type": "markdown",
   "metadata": {},
   "source": [
    "After checking that the expected length of the unique dataset is the same as the newly created dictionary, I'll proceed to make the clean dataset."
   ]
  },
  {
   "cell_type": "code",
   "execution_count": 17,
   "metadata": {
    "collapsed": false
   },
   "outputs": [
    {
     "data": {
      "text/plain": [
       "9659"
      ]
     },
     "execution_count": 17,
     "metadata": {},
     "output_type": "execute_result"
    }
   ],
   "source": [
    "google_clean = []\n",
    "already_added = []\n",
    "\n",
    "for app in google[1:]:\n",
    "    name = app[0]\n",
    "    n_reviews = float(app[3])\n",
    "    \n",
    "    if n_reviews == reviews_max[name] and name not in already_added:\n",
    "        google_clean.append(app)\n",
    "        already_added.append(name)\n",
    "        \n",
    "len(google_clean)"
   ]
  },
  {
   "cell_type": "markdown",
   "metadata": {},
   "source": [
    "The Google dataset now is free of duplicates."
   ]
  },
  {
   "cell_type": "markdown",
   "metadata": {},
   "source": [
    "## 5.- Removing Non-English Apps: Parte One\n",
    "This dataset contains apps not directed to English-speaking audience and will be removed. ASCII english text range from 0 to 127, so I'll make a function that can check if there's any characters greater than 127 to delete that row."
   ]
  },
  {
   "cell_type": "code",
   "execution_count": 18,
   "metadata": {
    "collapsed": false
   },
   "outputs": [
    {
     "data": {
      "text/plain": [
       "65"
      ]
     },
     "execution_count": 18,
     "metadata": {},
     "output_type": "execute_result"
    }
   ],
   "source": [
    "ord('A')"
   ]
  },
  {
   "cell_type": "code",
   "execution_count": 19,
   "metadata": {
    "collapsed": false
   },
   "outputs": [
    {
     "data": {
      "text/plain": [
       "231"
      ]
     },
     "execution_count": 19,
     "metadata": {},
     "output_type": "execute_result"
    }
   ],
   "source": [
    "ord('ç')"
   ]
  },
  {
   "cell_type": "code",
   "execution_count": 20,
   "metadata": {
    "collapsed": true
   },
   "outputs": [],
   "source": [
    "def spelling(string):\n",
    "    for letter in string:\n",
    "        if ord(letter) > 127:\n",
    "            return False\n",
    "    return True"
   ]
  },
  {
   "cell_type": "code",
   "execution_count": 21,
   "metadata": {
    "collapsed": false
   },
   "outputs": [
    {
     "data": {
      "text/plain": [
       "True"
      ]
     },
     "execution_count": 21,
     "metadata": {},
     "output_type": "execute_result"
    }
   ],
   "source": [
    "spelling('Instagram')"
   ]
  },
  {
   "cell_type": "code",
   "execution_count": 22,
   "metadata": {
    "collapsed": false
   },
   "outputs": [
    {
     "data": {
      "text/plain": [
       "False"
      ]
     },
     "execution_count": 22,
     "metadata": {},
     "output_type": "execute_result"
    }
   ],
   "source": [
    "spelling('爱奇艺PPS -《欢乐颂2》电视剧热播')"
   ]
  },
  {
   "cell_type": "code",
   "execution_count": 23,
   "metadata": {
    "collapsed": false
   },
   "outputs": [
    {
     "data": {
      "text/plain": [
       "False"
      ]
     },
     "execution_count": 23,
     "metadata": {},
     "output_type": "execute_result"
    }
   ],
   "source": [
    "spelling('Docs To Go™ Free Office Suite')"
   ]
  },
  {
   "cell_type": "code",
   "execution_count": 24,
   "metadata": {
    "collapsed": false
   },
   "outputs": [
    {
     "data": {
      "text/plain": [
       "False"
      ]
     },
     "execution_count": 24,
     "metadata": {},
     "output_type": "execute_result"
    }
   ],
   "source": [
    "spelling('Instachat 😜')"
   ]
  },
  {
   "cell_type": "markdown",
   "metadata": {},
   "source": [
    "## 6.- Removing Non-English Apps: Part Two\n",
    "It seems that some app names have characters that are above the 127 threshold but they're still english apps. Perhaps it would be better to include a limit to the number of characters that are not US-ASCII. I will set limit to 3."
   ]
  },
  {
   "cell_type": "code",
   "execution_count": 25,
   "metadata": {
    "collapsed": true
   },
   "outputs": [],
   "source": [
    "def spelling(string):\n",
    "    x = 0\n",
    "    for letter in string:\n",
    "        if ord(letter) > 127:\n",
    "            x += 1\n",
    "            if not x < 3:\n",
    "                return False\n",
    "    return True"
   ]
  },
  {
   "cell_type": "code",
   "execution_count": 26,
   "metadata": {
    "collapsed": false
   },
   "outputs": [
    {
     "data": {
      "text/plain": [
       "True"
      ]
     },
     "execution_count": 26,
     "metadata": {},
     "output_type": "execute_result"
    }
   ],
   "source": [
    "spelling('Docs To Go™ Free Office Suite')"
   ]
  },
  {
   "cell_type": "code",
   "execution_count": 27,
   "metadata": {
    "collapsed": false
   },
   "outputs": [
    {
     "data": {
      "text/plain": [
       "True"
      ]
     },
     "execution_count": 27,
     "metadata": {},
     "output_type": "execute_result"
    }
   ],
   "source": [
    "spelling('Instagram')"
   ]
  },
  {
   "cell_type": "code",
   "execution_count": 28,
   "metadata": {
    "collapsed": false
   },
   "outputs": [
    {
     "data": {
      "text/plain": [
       "False"
      ]
     },
     "execution_count": 28,
     "metadata": {},
     "output_type": "execute_result"
    }
   ],
   "source": [
    "spelling('爱奇艺PPS -《欢乐颂2》电视剧热播')"
   ]
  },
  {
   "cell_type": "code",
   "execution_count": 29,
   "metadata": {
    "collapsed": false
   },
   "outputs": [
    {
     "data": {
      "text/plain": [
       "False"
      ]
     },
     "execution_count": 29,
     "metadata": {},
     "output_type": "execute_result"
    }
   ],
   "source": [
    "spelling('爱奇艺')"
   ]
  },
  {
   "cell_type": "code",
   "execution_count": 30,
   "metadata": {
    "collapsed": false
   },
   "outputs": [
    {
     "data": {
      "text/plain": [
       "True"
      ]
     },
     "execution_count": 30,
     "metadata": {},
     "output_type": "execute_result"
    }
   ],
   "source": [
    "spelling('爱奇')"
   ]
  },
  {
   "cell_type": "code",
   "execution_count": 31,
   "metadata": {
    "collapsed": true
   },
   "outputs": [],
   "source": [
    "def remove_non_english(dataset,index):\n",
    "    english_dataset = []\n",
    "    for row in dataset[1:]:\n",
    "        name = row[index]\n",
    "        if spelling(name):\n",
    "            english_dataset.append(row)\n",
    "    return english_dataset"
   ]
  },
  {
   "cell_type": "code",
   "execution_count": 32,
   "metadata": {
    "collapsed": true
   },
   "outputs": [],
   "source": [
    "google_english = remove_non_english(google_clean,0)\n",
    "apple_english = remove_non_english(apple,1)"
   ]
  },
  {
   "cell_type": "code",
   "execution_count": 33,
   "metadata": {
    "collapsed": false
   },
   "outputs": [
    {
     "name": "stdout",
     "output_type": "stream",
     "text": [
      "9596\n",
      "6155\n"
     ]
    }
   ],
   "source": [
    "print(len(google_english))\n",
    "print(len(apple_english))"
   ]
  },
  {
   "cell_type": "markdown",
   "metadata": {},
   "source": [
    "## 7.- Isolating the Free Apps\n",
    "Now it's time to remove the apps that are not free, so I can finally begin analysing the data."
   ]
  },
  {
   "cell_type": "code",
   "execution_count": 34,
   "metadata": {
    "collapsed": false
   },
   "outputs": [
    {
     "name": "stdout",
     "output_type": "stream",
     "text": [
      "['App', 'Category', 'Rating', 'Reviews', 'Size', 'Installs', 'Type', 'Price', 'Content Rating', 'Genres', 'Last Updated', 'Current Ver', 'Android Ver'] \n",
      " ['U Launcher Lite – FREE Live Cool Themes, Hide Apps', 'ART_AND_DESIGN', '4.7', '87510', '8.7M', '5,000,000+', 'Free', '0', 'Everyone', 'Art & Design', 'August 1, 2018', '1.2.4', '4.0.3 and up']\n"
     ]
    }
   ],
   "source": [
    "print(google[0], '\\n', google_english[0])"
   ]
  },
  {
   "cell_type": "code",
   "execution_count": 35,
   "metadata": {
    "collapsed": false
   },
   "outputs": [
    {
     "name": "stdout",
     "output_type": "stream",
     "text": [
      "['id', 'track_name', 'size_bytes', 'currency', 'price', 'rating_count_tot', 'rating_count_ver', 'user_rating', 'user_rating_ver', 'ver', 'cont_rating', 'prime_genre', 'sup_devices.num', 'ipadSc_urls.num', 'lang.num', 'vpp_lic'] \n",
      " ['284882215', 'Facebook', '389879808', 'USD', '0.0', '2974676', '212', '3.5', '3.5', '95.0', '4+', 'Social Networking', '37', '1', '29', '1']\n"
     ]
    }
   ],
   "source": [
    "print(apple[0], '\\n', apple_english[0])"
   ]
  },
  {
   "cell_type": "markdown",
   "metadata": {},
   "source": [
    "According to the exploratory information above, for the google dataset I just need to filter by `Type`and the apple dataset by `price`. Lets begin with google and later with apple. There's also the option to use the same code for both, but I want to practice my skills."
   ]
  },
  {
   "cell_type": "code",
   "execution_count": 36,
   "metadata": {
    "collapsed": false
   },
   "outputs": [
    {
     "data": {
      "text/plain": [
       "8846"
      ]
     },
     "execution_count": 36,
     "metadata": {},
     "output_type": "execute_result"
    }
   ],
   "source": [
    "google_free = []\n",
    "\n",
    "for app in google_english:\n",
    "    if app[6] == 'Free':\n",
    "        google_free.append(app)\n",
    "        \n",
    "len(google_free)"
   ]
  },
  {
   "cell_type": "code",
   "execution_count": 37,
   "metadata": {
    "collapsed": false
   },
   "outputs": [
    {
     "data": {
      "text/plain": [
       "3203"
      ]
     },
     "execution_count": 37,
     "metadata": {},
     "output_type": "execute_result"
    }
   ],
   "source": [
    "apple_free = []\n",
    "\n",
    "for app in apple_english:\n",
    "    if app[4] == '0.0':\n",
    "        apple_free.append(app)\n",
    "        \n",
    "len(apple_free)"
   ]
  },
  {
   "cell_type": "markdown",
   "metadata": {
    "collapsed": true
   },
   "source": [
    "## 8.- Most Common Apps by Genre: Part One\n",
    "The goal is finally near, now it's time to answer the following questions to complete the analysis:\n",
    "\n",
    "* Which are the most popular genres?\n",
    "* Are the genres the same in both datasets."
   ]
  },
  {
   "cell_type": "code",
   "execution_count": 38,
   "metadata": {
    "collapsed": false
   },
   "outputs": [
    {
     "name": "stdout",
     "output_type": "stream",
     "text": [
      "['App', 'Category', 'Rating', 'Reviews', 'Size', 'Installs', 'Type', 'Price', 'Content Rating', 'Genres', 'Last Updated', 'Current Ver', 'Android Ver'] \n",
      " ['U Launcher Lite – FREE Live Cool Themes, Hide Apps', 'ART_AND_DESIGN', '4.7', '87510', '8.7M', '5,000,000+', 'Free', '0', 'Everyone', 'Art & Design', 'August 1, 2018', '1.2.4', '4.0.3 and up']\n"
     ]
    }
   ],
   "source": [
    "print(google[0], '\\n', google_free[0])"
   ]
  },
  {
   "cell_type": "code",
   "execution_count": 39,
   "metadata": {
    "collapsed": false
   },
   "outputs": [
    {
     "name": "stdout",
     "output_type": "stream",
     "text": [
      "['id', 'track_name', 'size_bytes', 'currency', 'price', 'rating_count_tot', 'rating_count_ver', 'user_rating', 'user_rating_ver', 'ver', 'cont_rating', 'prime_genre', 'sup_devices.num', 'ipadSc_urls.num', 'lang.num', 'vpp_lic'] \n",
      " ['284882215', 'Facebook', '389879808', 'USD', '0.0', '2974676', '212', '3.5', '3.5', '95.0', '4+', 'Social Networking', '37', '1', '29', '1']\n"
     ]
    }
   ],
   "source": [
    "print(apple[0], '\\n', apple_free[0])"
   ]
  },
  {
   "cell_type": "markdown",
   "metadata": {},
   "source": [
    "In google's case there are 2 columns I could use to do the analysis. In apple's case it's just one."
   ]
  },
  {
   "cell_type": "markdown",
   "metadata": {},
   "source": [
    "## 9.- Most Common Apps by Genre: Part Two\n",
    "I'll write 2 functions:\n",
    "\n",
    "1. To generate frequency tables with percentages\n",
    "2. To display percentages in descending order"
   ]
  },
  {
   "cell_type": "code",
   "execution_count": 40,
   "metadata": {
    "collapsed": true
   },
   "outputs": [],
   "source": [
    "def display_table(dataset, index):\n",
    "    table = freq_table(dataset, index)\n",
    "    table_display = []\n",
    "    for key in table:\n",
    "        key_val_as_tuple = (table[key], key)\n",
    "        table_display.append(key_val_as_tuple)\n",
    "    table_sorted = sorted(table_display, reverse = True)\n",
    "    \n",
    "    for entry in table_sorted[:10]:\n",
    "        print(entry[1], ':', entry[0])"
   ]
  },
  {
   "cell_type": "code",
   "execution_count": 41,
   "metadata": {
    "collapsed": true
   },
   "outputs": [],
   "source": [
    "def freq_table(dataset, index):\n",
    "    temp_dictionary = {}\n",
    "    for row in dataset:\n",
    "        name = row[index]\n",
    "        if name in temp_dictionary:\n",
    "            temp_dictionary[name] += 1\n",
    "        else:\n",
    "            temp_dictionary[name] = 1\n",
    "    for row in temp_dictionary:\n",
    "        temp_dictionary[row] /= len(dataset)\n",
    "        temp_dictionary[row] *= 100\n",
    "    return temp_dictionary"
   ]
  },
  {
   "cell_type": "code",
   "execution_count": 42,
   "metadata": {
    "collapsed": false
   },
   "outputs": [
    {
     "name": "stdout",
     "output_type": "stream",
     "text": [
      "FAMILY : 18.93511191498983\n",
      "GAME : 9.699299118245534\n",
      "TOOLS : 8.45579923129098\n",
      "BUSINESS : 4.600949581731856\n",
      "PRODUCTIVITY : 3.900067827266561\n",
      "LIFESTYLE : 3.8887632828397014\n",
      "FINANCE : 3.707890572009948\n",
      "MEDICAL : 3.538322405607054\n",
      "SPORTS : 3.3913633280578797\n",
      "PERSONALIZATION : 3.3235360614967213\n"
     ]
    }
   ],
   "source": [
    "display_table(google_free, 1)"
   ]
  },
  {
   "cell_type": "markdown",
   "metadata": {},
   "source": [
    "The popular genres are family and game in this case."
   ]
  },
  {
   "cell_type": "code",
   "execution_count": 43,
   "metadata": {
    "collapsed": false
   },
   "outputs": [
    {
     "name": "stdout",
     "output_type": "stream",
     "text": [
      "Tools : 8.44449468686412\n",
      "Entertainment : 6.081844901650464\n",
      "Education : 5.358354058331449\n",
      "Business : 4.600949581731856\n",
      "Productivity : 3.900067827266561\n",
      "Lifestyle : 3.8774587384128423\n",
      "Finance : 3.707890572009948\n",
      "Medical : 3.538322405607054\n",
      "Sports : 3.4591905946190367\n",
      "Personalization : 3.3235360614967213\n"
     ]
    }
   ],
   "source": [
    "display_table(google_free, 9)"
   ]
  },
  {
   "cell_type": "markdown",
   "metadata": {},
   "source": [
    "In this column tools and entertainment are the populars."
   ]
  },
  {
   "cell_type": "code",
   "execution_count": 44,
   "metadata": {
    "collapsed": false
   },
   "outputs": [
    {
     "name": "stdout",
     "output_type": "stream",
     "text": [
      "Games : 58.25788323446769\n",
      "Entertainment : 7.836403371838902\n",
      "Photo & Video : 4.995316890415236\n",
      "Education : 3.6840462066812365\n",
      "Social Networking : 3.3093974399000934\n",
      "Shopping : 2.5913206369029034\n",
      "Utilities : 2.466437714642523\n",
      "Sports : 2.1542304089915705\n",
      "Music : 2.0605682172962845\n",
      "Health & Fitness : 2.0293474867311896\n"
     ]
    }
   ],
   "source": [
    "display_table(apple_free, 11)"
   ]
  },
  {
   "cell_type": "markdown",
   "metadata": {},
   "source": [
    "In the Apple Store, the most popular genres are Games and Enternainment."
   ]
  },
  {
   "cell_type": "markdown",
   "metadata": {},
   "source": [
    "## 10.- Most Common Apps by Genre: Part Three\n",
    "The analysis is incomplete, I cannot safely state that Games, Entertainment, Tools and Family apps fare better in the stores, because I'm only considering the quantity of apps, not the number of users. I need to include this variable in the analysis or I'll make an uninformed guess right now."
   ]
  },
  {
   "cell_type": "markdown",
   "metadata": {},
   "source": [
    "## 11.- Most Popular Apps by Genre on the App Store\n",
    "A way to ensure I pick the most atractive Genre is to use the number of users each genre has. Google's dataset has the `Installs` column and Apple's dataset has the `rating_count_top` column. It's time to nest some loops to get the info I need."
   ]
  },
  {
   "cell_type": "code",
   "execution_count": 45,
   "metadata": {
    "collapsed": false
   },
   "outputs": [],
   "source": [
    "def recommended_profile(dataset, index, index_2):\n",
    "    table = freq_table(dataset, index)\n",
    "    ordered_list = []\n",
    "    for genre in table:\n",
    "        total = 0\n",
    "        len_genre = 0\n",
    "        for row in dataset:\n",
    "            genre_app = row[index]\n",
    "            if genre_app == genre:\n",
    "                total += float(row[index_2])\n",
    "                len_genre += 1\n",
    "        ordered_list.append((total/len_genre, genre))\n",
    "    \n",
    "    for row in sorted(ordered_list, reverse = True):\n",
    "        print(row)"
   ]
  },
  {
   "cell_type": "code",
   "execution_count": 46,
   "metadata": {
    "collapsed": false
   },
   "outputs": [
    {
     "name": "stdout",
     "output_type": "stream",
     "text": [
      "(86090.33333333333, 'Navigation')\n",
      "(79350.4705882353, 'Reference')\n",
      "(71548.34905660378, 'Social Networking')\n",
      "(57326.530303030304, 'Music')\n",
      "(52279.892857142855, 'Weather')\n",
      "(46384.916666666664, 'Book')\n",
      "(33333.92307692308, 'Food & Drink')\n",
      "(32367.02857142857, 'Finance')\n",
      "(28441.54375, 'Photo & Video')\n",
      "(28243.8, 'Travel')\n",
      "(27230.734939759037, 'Shopping')\n",
      "(23298.015384615384, 'Health & Fitness')\n",
      "(23008.898550724636, 'Sports')\n",
      "(22886.36709539121, 'Games')\n",
      "(21248.023255813954, 'News')\n",
      "(21028.410714285714, 'Productivity')\n",
      "(19156.493670886077, 'Utilities')\n",
      "(16815.48, 'Lifestyle')\n",
      "(14195.358565737051, 'Entertainment')\n",
      "(7491.117647058823, 'Business')\n",
      "(7003.983050847458, 'Education')\n",
      "(4004.0, 'Catalogs')\n",
      "(612.0, 'Medical')\n"
     ]
    }
   ],
   "source": [
    "recommended_profile(apple_free, 11, 5)"
   ]
  },
  {
   "cell_type": "markdown",
   "metadata": {
    "collapsed": true
   },
   "source": [
    "It seems the most popular genres are:\n",
    "\n",
    "1. Navigation\n",
    "2. Reference\n",
    "3. Social Networking\n",
    "4. Music\n",
    "5. Weather\n",
    "6. Book\n",
    "7. Food & Drink\n",
    "8. Finance\n",
    "\n",
    "I will print the first 5 rows of each to get a better understanding of the types of apps each genre has."
   ]
  },
  {
   "cell_type": "code",
   "execution_count": 47,
   "metadata": {
    "collapsed": false
   },
   "outputs": [
    {
     "name": "stdout",
     "output_type": "stream",
     "text": [
      "Waze - GPS Navigation, Maps & Real-time Traffic\n",
      "Google Maps - Navigation & Transit\n",
      "Geocaching®\n",
      "CoPilot GPS – Car Navigation & Offline Maps\n",
      "ImmobilienScout24: Real Estate Search in Germany\n"
     ]
    }
   ],
   "source": [
    "def print_apps_from_genre(genre):\n",
    "    \n",
    "    x = 0\n",
    "    for row in apple_free:\n",
    "        if row[11] == genre and x < 5:\n",
    "            print(row[1])\n",
    "            x += 1\n",
    " \n",
    "print_apps_from_genre('Navigation')"
   ]
  },
  {
   "cell_type": "code",
   "execution_count": 48,
   "metadata": {
    "collapsed": false
   },
   "outputs": [
    {
     "name": "stdout",
     "output_type": "stream",
     "text": [
      "Bible\n",
      "Dictionary.com Dictionary & Thesaurus\n",
      "Dictionary.com Dictionary & Thesaurus for iPad\n",
      "Google Translate\n",
      "Muslim Pro: Ramadan 2017 Prayer Times, Azan, Quran\n"
     ]
    }
   ],
   "source": [
    "print_apps_from_genre('Reference')"
   ]
  },
  {
   "cell_type": "code",
   "execution_count": 49,
   "metadata": {
    "collapsed": false
   },
   "outputs": [
    {
     "name": "stdout",
     "output_type": "stream",
     "text": [
      "Facebook\n",
      "Pinterest\n",
      "Skype for iPhone\n",
      "Messenger\n",
      "Tumblr\n"
     ]
    }
   ],
   "source": [
    "print_apps_from_genre('Social Networking')"
   ]
  },
  {
   "cell_type": "code",
   "execution_count": 50,
   "metadata": {
    "collapsed": false
   },
   "outputs": [
    {
     "name": "stdout",
     "output_type": "stream",
     "text": [
      "Pandora - Music & Radio\n",
      "Spotify Music\n",
      "Shazam - Discover music, artists, videos & lyrics\n",
      "iHeartRadio – Free Music & Radio Stations\n",
      "SoundCloud - Music & Audio\n"
     ]
    }
   ],
   "source": [
    "print_apps_from_genre('Music')"
   ]
  },
  {
   "cell_type": "code",
   "execution_count": 51,
   "metadata": {
    "collapsed": false
   },
   "outputs": [
    {
     "name": "stdout",
     "output_type": "stream",
     "text": [
      "The Weather Channel: Forecast, Radar & Alerts\n",
      "The Weather Channel App for iPad – best local forecast, radar map, and storm tracking\n",
      "WeatherBug - Local Weather, Radar, Maps, Alerts\n",
      "MyRadar NOAA Weather Radar Forecast\n",
      "AccuWeather - Weather for Life\n"
     ]
    }
   ],
   "source": [
    "print_apps_from_genre('Weather')"
   ]
  },
  {
   "cell_type": "code",
   "execution_count": 52,
   "metadata": {
    "collapsed": false
   },
   "outputs": [
    {
     "name": "stdout",
     "output_type": "stream",
     "text": [
      "Kindle – Read eBooks, Magazines & Textbooks\n",
      "Audible – audio books, original series & podcasts\n",
      "Color Therapy Adult Coloring Book for Adults\n",
      "OverDrive – Library eBooks and Audiobooks\n",
      "HOOKED - Chat Stories\n"
     ]
    }
   ],
   "source": [
    "print_apps_from_genre('Book')"
   ]
  },
  {
   "cell_type": "code",
   "execution_count": 53,
   "metadata": {
    "collapsed": false
   },
   "outputs": [
    {
     "name": "stdout",
     "output_type": "stream",
     "text": [
      "Starbucks\n",
      "Domino's Pizza USA\n",
      "OpenTable - Restaurant Reservations\n",
      "Allrecipes Dinner Spinner\n",
      "DoorDash - Food Delivery\n"
     ]
    }
   ],
   "source": [
    "print_apps_from_genre('Food & Drink')"
   ]
  },
  {
   "cell_type": "code",
   "execution_count": 54,
   "metadata": {
    "collapsed": false
   },
   "outputs": [
    {
     "name": "stdout",
     "output_type": "stream",
     "text": [
      "Chase Mobile℠\n",
      "Mint: Personal Finance, Budget, Bills & Money\n",
      "Bank of America - Mobile Banking\n",
      "PayPal - Send and request money safely\n",
      "Credit Karma: Free Credit Scores, Reports & Alerts\n"
     ]
    }
   ],
   "source": [
    "print_apps_from_genre('Finance')"
   ]
  },
  {
   "cell_type": "markdown",
   "metadata": {},
   "source": [
    "It seems that most of the popular free apps are from Digital Giants, but `'Reference'`could be an oportunity. I just need to confirm with Google's dataset."
   ]
  },
  {
   "cell_type": "markdown",
   "metadata": {},
   "source": [
    "## 12.- Most Popular Apps by Genre on Google Play.\n",
    "To ensure my recommendation is good, I need to confirm what the most popular APPs per Genre are on Google's dataset. But as you will see in the following cell, that dataset does not have a simple way to measure install numbers. So a workaround will do this time."
   ]
  },
  {
   "cell_type": "code",
   "execution_count": 55,
   "metadata": {
    "collapsed": false
   },
   "outputs": [
    {
     "name": "stdout",
     "output_type": "stream",
     "text": [
      "1,000,000+ : 15.758534931042279\n",
      "100,000+ : 11.54193985982365\n",
      "10,000,000+ : 10.569749039113724\n",
      "10,000+ : 10.185394528600497\n",
      "1,000+ : 8.39927650915668\n",
      "100+ : 6.929685733664933\n",
      "5,000,000+ : 6.827944833823196\n",
      "500,000+ : 5.561835858014922\n",
      "50,000+ : 4.7705177481347505\n",
      "5,000+ : 4.487904137463261\n"
     ]
    }
   ],
   "source": [
    "display_table(google_free, 5)"
   ]
  },
  {
   "cell_type": "code",
   "execution_count": 56,
   "metadata": {
    "collapsed": false
   },
   "outputs": [],
   "source": [
    "def google_recommended_profile(dataset, index, index_2):\n",
    "    table = freq_table(dataset, index)\n",
    "    ordered_list = []\n",
    "    for category in table:\n",
    "        total = 0\n",
    "        len_genre = 0\n",
    "        for row in dataset:\n",
    "            category_app = row[index]\n",
    "            if category_app == category:\n",
    "                installs = row[index_2]\n",
    "                installs = installs.replace('+','').replace(',','')\n",
    "                total += float(installs)\n",
    "                len_genre += 1\n",
    "        ordered_list.append((total/len_genre, category))\n",
    "    \n",
    "    for row in sorted(ordered_list, reverse = True)[:15]:\n",
    "        #Changed this to 10, because the list was too long\n",
    "        print(row)"
   ]
  },
  {
   "cell_type": "code",
   "execution_count": 57,
   "metadata": {
    "collapsed": false
   },
   "outputs": [
    {
     "name": "stdout",
     "output_type": "stream",
     "text": [
      "(38590581.08741259, 'COMMUNICATION')\n",
      "(24727872.452830188, 'VIDEO_PLAYERS')\n",
      "(23253652.127118643, 'SOCIAL')\n",
      "(17840110.40229885, 'PHOTOGRAPHY')\n",
      "(16787331.344927534, 'PRODUCTIVITY')\n",
      "(15544014.51048951, 'GAME')\n",
      "(13984077.710144928, 'TRAVEL_AND_LOCAL')\n",
      "(11640705.88235294, 'ENTERTAINMENT')\n",
      "(10830251.970588235, 'TOOLS')\n",
      "(9549178.467741935, 'NEWS_AND_MAGAZINES')\n",
      "(8814199.78835979, 'BOOKS_AND_REFERENCE')\n",
      "(7036877.311557789, 'SHOPPING')\n",
      "(5201482.6122448975, 'PERSONALIZATION')\n",
      "(5145550.285714285, 'WEATHER')\n",
      "(4188821.9853479853, 'HEALTH_AND_FITNESS')\n"
     ]
    }
   ],
   "source": [
    "google_recommended_profile(google_free, 1, 5)"
   ]
  },
  {
   "cell_type": "code",
   "execution_count": 58,
   "metadata": {
    "collapsed": false
   },
   "outputs": [
    {
     "name": "stdout",
     "output_type": "stream",
     "text": [
      "(38590581.08741259, 'Communication')\n",
      "(35333333.333333336, 'Adventure;Action & Adventure')\n",
      "(24947335.796178345, 'Video Players & Editors')\n",
      "(23253652.127118643, 'Social')\n",
      "(23028171.411042944, 'Arcade')\n",
      "(19569221.602564104, 'Casual')\n",
      "(18366666.666666668, 'Puzzle;Action & Adventure')\n",
      "(17840110.40229885, 'Photography')\n",
      "(17016666.666666668, 'Educational;Action & Adventure')\n",
      "(16787331.344927534, 'Productivity')\n",
      "(15910645.681818182, 'Racing')\n",
      "(14051476.145631067, 'Travel & Local')\n",
      "(12916666.666666666, 'Casual;Action & Adventure')\n",
      "(12467105.620437955, 'Action')\n",
      "(11339901.3125, 'Strategy')\n"
     ]
    }
   ],
   "source": [
    "google_recommended_profile(google_free, 9, 5)"
   ]
  },
  {
   "cell_type": "code",
   "execution_count": 59,
   "metadata": {
    "collapsed": false
   },
   "outputs": [
    {
     "name": "stdout",
     "output_type": "stream",
     "text": [
      "WhatsApp Messenger\n",
      "Messenger for SMS\n",
      "My Tele2\n",
      "imo beta free calls and text\n",
      "Contacts\n"
     ]
    }
   ],
   "source": [
    "def print_apps_from_genre(genre):\n",
    "    \n",
    "    x = 0\n",
    "    for row in google_free:\n",
    "        if row[1] == genre and x < 5:\n",
    "            print(row[0])\n",
    "            x += 1\n",
    "\n",
    "print_apps_from_genre('COMMUNICATION')"
   ]
  },
  {
   "cell_type": "code",
   "execution_count": 60,
   "metadata": {
    "collapsed": false
   },
   "outputs": [
    {
     "name": "stdout",
     "output_type": "stream",
     "text": [
      "YouTube\n",
      "All Video Downloader 2018\n",
      "Video Downloader\n",
      "HD Video Player\n",
      "Iqiyi (for tablet)\n"
     ]
    }
   ],
   "source": [
    "print_apps_from_genre('VIDEO_PLAYERS')"
   ]
  },
  {
   "cell_type": "code",
   "execution_count": 61,
   "metadata": {
    "collapsed": false
   },
   "outputs": [
    {
     "name": "stdout",
     "output_type": "stream",
     "text": [
      "Facebook\n",
      "Facebook Lite\n",
      "Tumblr\n",
      "Social network all in one 2018\n",
      "Pinterest\n"
     ]
    }
   ],
   "source": [
    "print_apps_from_genre('SOCIAL')"
   ]
  },
  {
   "cell_type": "code",
   "execution_count": 62,
   "metadata": {
    "collapsed": false
   },
   "outputs": [
    {
     "name": "stdout",
     "output_type": "stream",
     "text": [
      "TouchNote: Cards & Gifts\n",
      "FreePrints – Free Photos Delivered\n",
      "Groovebook Photo Books & Gifts\n",
      "Moony Lab - Print Photos, Books & Magnets ™\n",
      "LALALAB prints your photos, photobooks and magnets\n"
     ]
    }
   ],
   "source": [
    "print_apps_from_genre('PHOTOGRAPHY')"
   ]
  },
  {
   "cell_type": "code",
   "execution_count": 63,
   "metadata": {
    "collapsed": false
   },
   "outputs": [
    {
     "name": "stdout",
     "output_type": "stream",
     "text": [
      "Microsoft Word\n",
      "All-In-One Toolbox: Cleaner, Booster, App Manager\n",
      "AVG Cleaner – Speed, Battery & Memory Booster\n",
      "QR Scanner & Barcode Scanner 2018\n",
      "Chrome Beta\n"
     ]
    }
   ],
   "source": [
    "print_apps_from_genre('PRODUCTIVITY')"
   ]
  },
  {
   "cell_type": "code",
   "execution_count": 64,
   "metadata": {
    "collapsed": false
   },
   "outputs": [
    {
     "name": "stdout",
     "output_type": "stream",
     "text": [
      "E-Book Read - Read Book for free\n",
      "Download free book with green book\n",
      "Wikipedia\n",
      "Cool Reader\n",
      "Free Panda Radio Music\n"
     ]
    }
   ],
   "source": [
    "print_apps_from_genre('BOOKS_AND_REFERENCE')"
   ]
  },
  {
   "cell_type": "code",
   "execution_count": 65,
   "metadata": {
    "collapsed": false
   },
   "outputs": [
    {
     "name": "stdout",
     "output_type": "stream",
     "text": [
      "WhatsApp Messenger\n",
      "Messenger for SMS\n",
      "My Tele2\n",
      "imo beta free calls and text\n",
      "Contacts\n"
     ]
    }
   ],
   "source": [
    "def print_apps_from_genre(genre):\n",
    "    \n",
    "    x = 0\n",
    "    for row in google_free:\n",
    "        if row[9] == genre and x < 5:\n",
    "            print(row[0])\n",
    "            x += 1\n",
    "            \n",
    "print_apps_from_genre('Communication')"
   ]
  },
  {
   "cell_type": "code",
   "execution_count": 66,
   "metadata": {
    "collapsed": false
   },
   "outputs": [
    {
     "name": "stdout",
     "output_type": "stream",
     "text": [
      "Leo and Tig\n",
      "Transformers Rescue Bots: Hero Adventures\n",
      "ROBLOX\n"
     ]
    }
   ],
   "source": [
    "print_apps_from_genre('Adventure;Action & Adventure')"
   ]
  },
  {
   "cell_type": "code",
   "execution_count": 67,
   "metadata": {
    "collapsed": false
   },
   "outputs": [
    {
     "name": "stdout",
     "output_type": "stream",
     "text": [
      "YouTube\n",
      "All Video Downloader 2018\n",
      "Video Downloader\n",
      "HD Video Player\n",
      "Iqiyi (for tablet)\n"
     ]
    }
   ],
   "source": [
    "print_apps_from_genre('Video Players & Editors')"
   ]
  },
  {
   "cell_type": "code",
   "execution_count": 68,
   "metadata": {
    "collapsed": false
   },
   "outputs": [
    {
     "name": "stdout",
     "output_type": "stream",
     "text": [
      "Facebook\n",
      "Facebook Lite\n",
      "Tumblr\n",
      "Social network all in one 2018\n",
      "Pinterest\n"
     ]
    }
   ],
   "source": [
    "print_apps_from_genre('Social')"
   ]
  },
  {
   "cell_type": "code",
   "execution_count": 69,
   "metadata": {
    "collapsed": false
   },
   "outputs": [
    {
     "name": "stdout",
     "output_type": "stream",
     "text": [
      "Sonic Dash\n",
      "PAC-MAN\n",
      "Geometry Dash World\n",
      "Piano Tiles 2™\n",
      "Snake VS Block\n"
     ]
    }
   ],
   "source": [
    "print_apps_from_genre('Arcade')"
   ]
  },
  {
   "cell_type": "code",
   "execution_count": 70,
   "metadata": {
    "collapsed": false
   },
   "outputs": [
    {
     "name": "stdout",
     "output_type": "stream",
     "text": [
      "Jungle Marble Blast\n",
      "Farm Fruit Pop: Party Time\n",
      "Paint Hit\n",
      "Bricks n Balls\n",
      "Ice Crush 2018 - A new Puzzle Matching Adventure\n"
     ]
    }
   ],
   "source": [
    "print_apps_from_genre('Casual')"
   ]
  },
  {
   "cell_type": "markdown",
   "metadata": {},
   "source": [
    "## 13. Closing Commentary\n",
    "\n",
    "It seems that more data and analysis is needed to make a sure recommendation but:\n",
    "\n",
    "* Each dataset has a different #1 genre, so according to the analysis, an APP would not have the same popularity in both marketplaces.\n",
    "\n",
    "Take aways:\n",
    "\n",
    "* Increase the number of datapoints to make better comparisons.\n",
    "* Get new and better ways to handle data."
   ]
  }
 ],
 "metadata": {
  "kernelspec": {
   "display_name": "Python 3",
   "language": "python",
   "name": "python3"
  },
  "language_info": {
   "codemirror_mode": {
    "name": "ipython",
    "version": 3
   },
   "file_extension": ".py",
   "mimetype": "text/x-python",
   "name": "python",
   "nbconvert_exporter": "python",
   "pygments_lexer": "ipython3",
   "version": "3.4.3"
  }
 },
 "nbformat": 4,
 "nbformat_minor": 2
}
