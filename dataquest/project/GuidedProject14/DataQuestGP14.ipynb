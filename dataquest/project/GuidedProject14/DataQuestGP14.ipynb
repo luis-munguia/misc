{
 "cells": [
  {
   "cell_type": "markdown",
   "metadata": {},
   "source": [
    "# Guided Project #14 - Winning Jeopardy\n",
    "By [Luis Munguia](http://www.linkedin.com/in/luis-munguia) and [Dataquest](http://www.dataquest.io)\n",
    "\n",
    "In this guided project, I'll work with data from Jeopardy. This is a popular TV show in the US where participants try to answer questions to win money.\n",
    "\n",
    "My objective is figure out patterns in the questions to help me win.\n",
    "\n",
    "This dataset contains 20000 rows from the full dataset.\n",
    "\n",
    "The data dictionary is as follows:\n",
    "\n",
    "* `Show Number` -- the jeopardy episode number of the show this question was in.\n",
    "* `Air Date` -- the date the episode aired.\n",
    "* `Round` -- the round of Jeopardy that the question was asked in. Jeopardy has several rounds as each episode progresses.\n",
    "* `Category` -- the category of the question.\n",
    "* `Value` -- the number of dollars answering the question correctly is worth.\n",
    "* `Question` -- the text of the question.\n",
    "* `Answer` -- the text of the answer."
   ]
  },
  {
   "cell_type": "markdown",
   "metadata": {
    "collapsed": true
   },
   "source": [
    "## 1.- Library and Jupyter setup.\n",
    "Import `pandas` and do exploratory data analysis."
   ]
  },
  {
   "cell_type": "code",
   "execution_count": 1,
   "metadata": {
    "collapsed": true
   },
   "outputs": [],
   "source": [
    "import pandas as pd\n",
    "\n",
    "jeopardy = pd.read_csv(\"jeopardy.csv\")"
   ]
  },
  {
   "cell_type": "code",
   "execution_count": 2,
   "metadata": {
    "collapsed": false
   },
   "outputs": [
    {
     "data": {
      "text/html": [
       "<div>\n",
       "<style scoped>\n",
       "    .dataframe tbody tr th:only-of-type {\n",
       "        vertical-align: middle;\n",
       "    }\n",
       "\n",
       "    .dataframe tbody tr th {\n",
       "        vertical-align: top;\n",
       "    }\n",
       "\n",
       "    .dataframe thead th {\n",
       "        text-align: right;\n",
       "    }\n",
       "</style>\n",
       "<table border=\"1\" class=\"dataframe\">\n",
       "  <thead>\n",
       "    <tr style=\"text-align: right;\">\n",
       "      <th></th>\n",
       "      <th>Show Number</th>\n",
       "      <th>Air Date</th>\n",
       "      <th>Round</th>\n",
       "      <th>Category</th>\n",
       "      <th>Value</th>\n",
       "      <th>Question</th>\n",
       "      <th>Answer</th>\n",
       "    </tr>\n",
       "  </thead>\n",
       "  <tbody>\n",
       "    <tr>\n",
       "      <th>0</th>\n",
       "      <td>4680</td>\n",
       "      <td>2004-12-31</td>\n",
       "      <td>Jeopardy!</td>\n",
       "      <td>HISTORY</td>\n",
       "      <td>$200</td>\n",
       "      <td>For the last 8 years of his life, Galileo was ...</td>\n",
       "      <td>Copernicus</td>\n",
       "    </tr>\n",
       "    <tr>\n",
       "      <th>1</th>\n",
       "      <td>4680</td>\n",
       "      <td>2004-12-31</td>\n",
       "      <td>Jeopardy!</td>\n",
       "      <td>ESPN's TOP 10 ALL-TIME ATHLETES</td>\n",
       "      <td>$200</td>\n",
       "      <td>No. 2: 1912 Olympian; football star at Carlisl...</td>\n",
       "      <td>Jim Thorpe</td>\n",
       "    </tr>\n",
       "    <tr>\n",
       "      <th>2</th>\n",
       "      <td>4680</td>\n",
       "      <td>2004-12-31</td>\n",
       "      <td>Jeopardy!</td>\n",
       "      <td>EVERYBODY TALKS ABOUT IT...</td>\n",
       "      <td>$200</td>\n",
       "      <td>The city of Yuma in this state has a record av...</td>\n",
       "      <td>Arizona</td>\n",
       "    </tr>\n",
       "    <tr>\n",
       "      <th>3</th>\n",
       "      <td>4680</td>\n",
       "      <td>2004-12-31</td>\n",
       "      <td>Jeopardy!</td>\n",
       "      <td>THE COMPANY LINE</td>\n",
       "      <td>$200</td>\n",
       "      <td>In 1963, live on \"The Art Linkletter Show\", th...</td>\n",
       "      <td>McDonald's</td>\n",
       "    </tr>\n",
       "    <tr>\n",
       "      <th>4</th>\n",
       "      <td>4680</td>\n",
       "      <td>2004-12-31</td>\n",
       "      <td>Jeopardy!</td>\n",
       "      <td>EPITAPHS &amp; TRIBUTES</td>\n",
       "      <td>$200</td>\n",
       "      <td>Signer of the Dec. of Indep., framer of the Co...</td>\n",
       "      <td>John Adams</td>\n",
       "    </tr>\n",
       "  </tbody>\n",
       "</table>\n",
       "</div>"
      ],
      "text/plain": [
       "   Show Number    Air Date      Round                         Category  Value  \\\n",
       "0         4680  2004-12-31  Jeopardy!                          HISTORY   $200   \n",
       "1         4680  2004-12-31  Jeopardy!  ESPN's TOP 10 ALL-TIME ATHLETES   $200   \n",
       "2         4680  2004-12-31  Jeopardy!      EVERYBODY TALKS ABOUT IT...   $200   \n",
       "3         4680  2004-12-31  Jeopardy!                 THE COMPANY LINE   $200   \n",
       "4         4680  2004-12-31  Jeopardy!              EPITAPHS & TRIBUTES   $200   \n",
       "\n",
       "                                            Question      Answer  \n",
       "0  For the last 8 years of his life, Galileo was ...  Copernicus  \n",
       "1  No. 2: 1912 Olympian; football star at Carlisl...  Jim Thorpe  \n",
       "2  The city of Yuma in this state has a record av...     Arizona  \n",
       "3  In 1963, live on \"The Art Linkletter Show\", th...  McDonald's  \n",
       "4  Signer of the Dec. of Indep., framer of the Co...  John Adams  "
      ]
     },
     "execution_count": 2,
     "metadata": {},
     "output_type": "execute_result"
    }
   ],
   "source": [
    "jeopardy.head()"
   ]
  },
  {
   "cell_type": "code",
   "execution_count": 3,
   "metadata": {
    "collapsed": false
   },
   "outputs": [
    {
     "name": "stdout",
     "output_type": "stream",
     "text": [
      "Index(['Show Number', ' Air Date', ' Round', ' Category', ' Value',\n",
      "       ' Question', ' Answer'],\n",
      "      dtype='object')\n"
     ]
    }
   ],
   "source": [
    "print(jeopardy.columns)"
   ]
  },
  {
   "cell_type": "code",
   "execution_count": 4,
   "metadata": {
    "collapsed": true
   },
   "outputs": [],
   "source": [
    "jeopardy.columns = [\"Show Number\", \"Air Date\", \"Round\", \"Category\", \"Value\",\n",
    "                   \"Question\", \"Answer\"]"
   ]
  },
  {
   "cell_type": "markdown",
   "metadata": {
    "collapsed": true
   },
   "source": [
    "## 2.- Normalizing Text.\n",
    "Import `re` and normalize columns \"Question\" and \"Answer\"."
   ]
  },
  {
   "cell_type": "code",
   "execution_count": 5,
   "metadata": {
    "collapsed": false
   },
   "outputs": [
    {
     "data": {
      "text/plain": [
       "0        For the last 8 years of his life, Galileo was ...\n",
       "1        No. 2: 1912 Olympian; football star at Carlisl...\n",
       "2        The city of Yuma in this state has a record av...\n",
       "3        In 1963, live on \"The Art Linkletter Show\", th...\n",
       "4        Signer of the Dec. of Indep., framer of the Co...\n",
       "5        In the title of an Aesop fable, this insect sh...\n",
       "6        Built in 312 B.C. to link Rome & the South of ...\n",
       "7        No. 8: 30 steals for the Birmingham Barons; 2,...\n",
       "8        In the winter of 1971-72, a record 1,122 inche...\n",
       "9        This housewares store was named for the packag...\n",
       "10                                        \"And away we go\"\n",
       "11       Cows regurgitate this from the first stomach t...\n",
       "12       In 1000 Rajaraja I of the Cholas battled to ta...\n",
       "13       No. 1: Lettered in hoops, football & lacrosse ...\n",
       "14       On June 28, 1994 the nat'l weather service beg...\n",
       "15       This company's Accutron watch, introduced in 1...\n",
       "16       Outlaw: \"Murdered by a traitor and a coward wh...\n",
       "17       A small demon, or a mischievous child (who mig...\n",
       "18       Karl led the first of these Marxist organizati...\n",
       "19       No. 10: FB/LB for Columbia U. in the 1920s; MV...\n",
       "20       Africa's lowest temperature was 11 degrees bel...\n",
       "21       Edward Teller & this man partnered in 1898 to ...\n",
       "22       1939 Oscar winner: \"...you are a credit to you...\n",
       "23       In geologic time one of these, shorter than an...\n",
       "24       This Asian political party was founded in 1885...\n",
       "25       No. 5: Only center to lead the NBA in assists;...\n",
       "26       The Kirschner brothers, Don & Bill, named this...\n",
       "27       Revolutionary War hero: \"His spirit is in Verm...\n",
       "28       A single layer of paper, or to perform one's c...\n",
       "29       <a href=\"http://www.j-archive.com/media/2004-1...\n",
       "                               ...                        \n",
       "19969    In 1960 the last of these locomotives was reti...\n",
       "19970    Kate: \"if I be waspish, best beware my sting\";...\n",
       "19971    This private college in Northern California bo...\n",
       "19972    She voiced Princess Pea in \"The Tale of Desper...\n",
       "19973    It's the name of the long-awaited new White Ho...\n",
       "19974    Langdon in \"Angels & Demons\" is looking for <a...\n",
       "19975    In the 1600s most of New York State was occupi...\n",
       "19976            Marina's dad (need a hint? he rules Tyre)\n",
       "19977    Presidential kids are welcome at this New Orle...\n",
       "19978    She didn't vamp it up & did a bella job as Em ...\n",
       "19979    Third syllable intoned by the giant who smells...\n",
       "19980    Much of \"Angels & Demons\" takes place at one o...\n",
       "19981    In 1899 Secretary of State John Hay proclaimed...\n",
       "19982    Fruity surname of Peter in \"A Midsummer Night'...\n",
       "19983    Quincy Jones, Kevin Eubanks & Branford Marsali...\n",
       "19984    In 2009 she returned to being \"Fast & Furious\"...\n",
       "19985    The book of Genesis says this ancient city \"of...\n",
       "19986    \"Habakkuk and the Angel\" is one of a series of...\n",
       "19987    In medieval England, it meant the smallest uni...\n",
       "19988    This Texas city is the largest in the U.S. to ...\n",
       "19989                                    ...& the Crickets\n",
       "19990    In the 990s this son of Erik the Red brought C...\n",
       "19991    Concerning a failed Windows 98 demonstration, ...\n",
       "19992    This llama product is used to make hats, blank...\n",
       "19993    In 1967 this company introduced its chocolate-...\n",
       "19994    Of 8, 12 or 18, the number of U.S. states that...\n",
       "19995                        ...& the New Power Generation\n",
       "19996    In 1589 he was appointed professor of mathemat...\n",
       "19997    Before the grand jury she said, \"I'm really so...\n",
       "19998    Llamas are the heftiest South American members...\n",
       "Name: Question, Length: 19999, dtype: object"
      ]
     },
     "execution_count": 5,
     "metadata": {},
     "output_type": "execute_result"
    }
   ],
   "source": [
    "jeopardy[\"Question\"]"
   ]
  },
  {
   "cell_type": "code",
   "execution_count": 6,
   "metadata": {
    "collapsed": true
   },
   "outputs": [],
   "source": [
    "import re\n",
    "\n",
    "def normalize_text(text):\n",
    "    text = text.lower()\n",
    "    replacement = re.sub(\"[^A-Za-z0-9\\s]\", \"\", text)\n",
    "    return replacement "
   ]
  },
  {
   "cell_type": "code",
   "execution_count": 7,
   "metadata": {
    "collapsed": false
   },
   "outputs": [
    {
     "data": {
      "text/html": [
       "<div>\n",
       "<style scoped>\n",
       "    .dataframe tbody tr th:only-of-type {\n",
       "        vertical-align: middle;\n",
       "    }\n",
       "\n",
       "    .dataframe tbody tr th {\n",
       "        vertical-align: top;\n",
       "    }\n",
       "\n",
       "    .dataframe thead th {\n",
       "        text-align: right;\n",
       "    }\n",
       "</style>\n",
       "<table border=\"1\" class=\"dataframe\">\n",
       "  <thead>\n",
       "    <tr style=\"text-align: right;\">\n",
       "      <th></th>\n",
       "      <th>Show Number</th>\n",
       "      <th>Air Date</th>\n",
       "      <th>Round</th>\n",
       "      <th>Category</th>\n",
       "      <th>Value</th>\n",
       "      <th>Question</th>\n",
       "      <th>Answer</th>\n",
       "      <th>clean_question</th>\n",
       "    </tr>\n",
       "  </thead>\n",
       "  <tbody>\n",
       "    <tr>\n",
       "      <th>0</th>\n",
       "      <td>4680</td>\n",
       "      <td>2004-12-31</td>\n",
       "      <td>Jeopardy!</td>\n",
       "      <td>HISTORY</td>\n",
       "      <td>$200</td>\n",
       "      <td>For the last 8 years of his life, Galileo was ...</td>\n",
       "      <td>Copernicus</td>\n",
       "      <td>for the last 8 years of his life galileo was u...</td>\n",
       "    </tr>\n",
       "    <tr>\n",
       "      <th>1</th>\n",
       "      <td>4680</td>\n",
       "      <td>2004-12-31</td>\n",
       "      <td>Jeopardy!</td>\n",
       "      <td>ESPN's TOP 10 ALL-TIME ATHLETES</td>\n",
       "      <td>$200</td>\n",
       "      <td>No. 2: 1912 Olympian; football star at Carlisl...</td>\n",
       "      <td>Jim Thorpe</td>\n",
       "      <td>no 2 1912 olympian football star at carlisle i...</td>\n",
       "    </tr>\n",
       "    <tr>\n",
       "      <th>2</th>\n",
       "      <td>4680</td>\n",
       "      <td>2004-12-31</td>\n",
       "      <td>Jeopardy!</td>\n",
       "      <td>EVERYBODY TALKS ABOUT IT...</td>\n",
       "      <td>$200</td>\n",
       "      <td>The city of Yuma in this state has a record av...</td>\n",
       "      <td>Arizona</td>\n",
       "      <td>the city of yuma in this state has a record av...</td>\n",
       "    </tr>\n",
       "    <tr>\n",
       "      <th>3</th>\n",
       "      <td>4680</td>\n",
       "      <td>2004-12-31</td>\n",
       "      <td>Jeopardy!</td>\n",
       "      <td>THE COMPANY LINE</td>\n",
       "      <td>$200</td>\n",
       "      <td>In 1963, live on \"The Art Linkletter Show\", th...</td>\n",
       "      <td>McDonald's</td>\n",
       "      <td>in 1963 live on the art linkletter show this c...</td>\n",
       "    </tr>\n",
       "    <tr>\n",
       "      <th>4</th>\n",
       "      <td>4680</td>\n",
       "      <td>2004-12-31</td>\n",
       "      <td>Jeopardy!</td>\n",
       "      <td>EPITAPHS &amp; TRIBUTES</td>\n",
       "      <td>$200</td>\n",
       "      <td>Signer of the Dec. of Indep., framer of the Co...</td>\n",
       "      <td>John Adams</td>\n",
       "      <td>signer of the dec of indep framer of the const...</td>\n",
       "    </tr>\n",
       "  </tbody>\n",
       "</table>\n",
       "</div>"
      ],
      "text/plain": [
       "   Show Number    Air Date      Round                         Category Value  \\\n",
       "0         4680  2004-12-31  Jeopardy!                          HISTORY  $200   \n",
       "1         4680  2004-12-31  Jeopardy!  ESPN's TOP 10 ALL-TIME ATHLETES  $200   \n",
       "2         4680  2004-12-31  Jeopardy!      EVERYBODY TALKS ABOUT IT...  $200   \n",
       "3         4680  2004-12-31  Jeopardy!                 THE COMPANY LINE  $200   \n",
       "4         4680  2004-12-31  Jeopardy!              EPITAPHS & TRIBUTES  $200   \n",
       "\n",
       "                                            Question      Answer  \\\n",
       "0  For the last 8 years of his life, Galileo was ...  Copernicus   \n",
       "1  No. 2: 1912 Olympian; football star at Carlisl...  Jim Thorpe   \n",
       "2  The city of Yuma in this state has a record av...     Arizona   \n",
       "3  In 1963, live on \"The Art Linkletter Show\", th...  McDonald's   \n",
       "4  Signer of the Dec. of Indep., framer of the Co...  John Adams   \n",
       "\n",
       "                                      clean_question  \n",
       "0  for the last 8 years of his life galileo was u...  \n",
       "1  no 2 1912 olympian football star at carlisle i...  \n",
       "2  the city of yuma in this state has a record av...  \n",
       "3  in 1963 live on the art linkletter show this c...  \n",
       "4  signer of the dec of indep framer of the const...  "
      ]
     },
     "execution_count": 7,
     "metadata": {},
     "output_type": "execute_result"
    }
   ],
   "source": [
    "jeopardy[\"clean_question\"] = jeopardy[\"Question\"].apply(normalize_text)\n",
    "jeopardy.head()"
   ]
  },
  {
   "cell_type": "code",
   "execution_count": 8,
   "metadata": {
    "collapsed": false
   },
   "outputs": [
    {
     "name": "stdout",
     "output_type": "stream",
     "text": [
      "4680\n",
      "2004-12-31\n",
      "Jeopardy!\n",
      "HISTORY\n",
      "$200\n",
      "For the last 8 years of his life, Galileo was under house arrest for espousing this man's theory\n",
      "Copernicus\n",
      "for the last 8 years of his life galileo was under house arrest for espousing this mans theory\n"
     ]
    }
   ],
   "source": [
    "for i in jeopardy.iloc[0]:\n",
    "    print(i)"
   ]
  },
  {
   "cell_type": "markdown",
   "metadata": {},
   "source": [
    "It works!"
   ]
  },
  {
   "cell_type": "code",
   "execution_count": 9,
   "metadata": {
    "collapsed": true
   },
   "outputs": [],
   "source": [
    "jeopardy[\"clean_answer\"] = jeopardy[\"Answer\"].apply(normalize_text)"
   ]
  },
  {
   "cell_type": "code",
   "execution_count": 10,
   "metadata": {
    "collapsed": false,
    "scrolled": true
   },
   "outputs": [
    {
     "name": "stdout",
     "output_type": "stream",
     "text": [
      "4680\n",
      "2004-12-31\n",
      "Jeopardy!\n",
      "THE COMPANY LINE\n",
      "$200\n",
      "In 1963, live on \"The Art Linkletter Show\", this company served its billionth burger\n",
      "McDonald's\n",
      "in 1963 live on the art linkletter show this company served its billionth burger\n",
      "mcdonalds\n"
     ]
    }
   ],
   "source": [
    "for i in jeopardy.iloc[3]:\n",
    "    print(i)"
   ]
  },
  {
   "cell_type": "markdown",
   "metadata": {
    "collapsed": true
   },
   "source": [
    "## 3.- Normalizing Values and Datetimes.\n",
    "Normalize columns \"Value\" and \"Air Date\"."
   ]
  },
  {
   "cell_type": "code",
   "execution_count": 11,
   "metadata": {
    "collapsed": false
   },
   "outputs": [
    {
     "data": {
      "text/plain": [
       "$1,000      184\n",
       "$1,020        1\n",
       "$1,100        6\n",
       "$1,111        1\n",
       "$1,200       42\n",
       "$1,300        6\n",
       "$1,400       20\n",
       "$1,492        1\n",
       "$1,500       50\n",
       "$1,600       19\n",
       "$1,700        1\n",
       "$1,800       22\n",
       "$1,900        5\n",
       "$10,000       3\n",
       "$10,800       1\n",
       "$100        804\n",
       "$1000      1796\n",
       "$12,000       2\n",
       "$1200      1069\n",
       "$1600      1027\n",
       "$2,000      149\n",
       "$2,021        1\n",
       "$2,100        2\n",
       "$2,127        1\n",
       "$2,200       11\n",
       "$2,300        1\n",
       "$2,400        8\n",
       "$2,500       18\n",
       "$2,600        3\n",
       "$2,800        5\n",
       "           ... \n",
       "$4,100        1\n",
       "$4,400        2\n",
       "$4,500        1\n",
       "$4,600        2\n",
       "$4,700        1\n",
       "$4,800        2\n",
       "$400       3892\n",
       "$5,000       23\n",
       "$5,200        1\n",
       "$5,400        1\n",
       "$5,600        2\n",
       "$5,800        1\n",
       "$500        798\n",
       "$6,000        7\n",
       "$6,100        1\n",
       "$6,200        1\n",
       "$6,800        1\n",
       "$600       1890\n",
       "$7,000        7\n",
       "$7,200        2\n",
       "$7,400        1\n",
       "$7,500        1\n",
       "$700         15\n",
       "$750          1\n",
       "$8,000        3\n",
       "$8,200        1\n",
       "$800       2980\n",
       "$9,000        1\n",
       "$900          6\n",
       "None        336\n",
       "Name: Value, Length: 76, dtype: int64"
      ]
     },
     "execution_count": 11,
     "metadata": {},
     "output_type": "execute_result"
    }
   ],
   "source": [
    "jeopardy[\"Value\"].value_counts().sort_index(ascending = True)"
   ]
  },
  {
   "cell_type": "code",
   "execution_count": 12,
   "metadata": {
    "collapsed": false
   },
   "outputs": [],
   "source": [
    "def normalize_value(value):\n",
    "    value = re.sub(\"[$,]\", \"\", value)\n",
    "    try:\n",
    "        replacement = int(value)\n",
    "    except Exception:\n",
    "        replacement = 0\n",
    "    return replacement "
   ]
  },
  {
   "cell_type": "code",
   "execution_count": 13,
   "metadata": {
    "collapsed": false
   },
   "outputs": [],
   "source": [
    "jeopardy[\"clean_value\"] = jeopardy[\"Value\"].apply(normalize_value)"
   ]
  },
  {
   "cell_type": "code",
   "execution_count": 14,
   "metadata": {
    "collapsed": false,
    "scrolled": true
   },
   "outputs": [
    {
     "data": {
      "text/plain": [
       "0         336\n",
       "100       804\n",
       "200      2784\n",
       "300       764\n",
       "367         1\n",
       "400      3892\n",
       "500       798\n",
       "600      1890\n",
       "700        15\n",
       "750         1\n",
       "800      2980\n",
       "900         6\n",
       "1000     1980\n",
       "1020        1\n",
       "1100        6\n",
       "1111        1\n",
       "1200     1111\n",
       "1300        6\n",
       "1400       20\n",
       "1492        1\n",
       "1500       50\n",
       "1600     1046\n",
       "1700        1\n",
       "1800       22\n",
       "1900        5\n",
       "2000     1223\n",
       "2021        1\n",
       "2100        2\n",
       "2127        1\n",
       "2200       11\n",
       "         ... \n",
       "3500        6\n",
       "3600        8\n",
       "3800        2\n",
       "3900        1\n",
       "4000       32\n",
       "4100        1\n",
       "4400        2\n",
       "4500        1\n",
       "4600        2\n",
       "4700        1\n",
       "4800        2\n",
       "5000       23\n",
       "5200        1\n",
       "5400        1\n",
       "5600        2\n",
       "5800        1\n",
       "6000        7\n",
       "6100        1\n",
       "6200        1\n",
       "6800        1\n",
       "7000        7\n",
       "7200        2\n",
       "7400        1\n",
       "7500        1\n",
       "8000        3\n",
       "8200        1\n",
       "9000        1\n",
       "10000       3\n",
       "10800       1\n",
       "12000       2\n",
       "Name: clean_value, Length: 72, dtype: int64"
      ]
     },
     "execution_count": 14,
     "metadata": {},
     "output_type": "execute_result"
    }
   ],
   "source": [
    "jeopardy[\"clean_value\"].value_counts().sort_index()"
   ]
  },
  {
   "cell_type": "code",
   "execution_count": 15,
   "metadata": {
    "collapsed": false
   },
   "outputs": [],
   "source": [
    "jeopardy[\"Air Date\"] = pd.to_datetime(jeopardy[\"Air Date\"])"
   ]
  },
  {
   "cell_type": "code",
   "execution_count": 16,
   "metadata": {
    "collapsed": false
   },
   "outputs": [
    {
     "data": {
      "text/plain": [
       "Show Number                int64\n",
       "Air Date          datetime64[ns]\n",
       "Round                     object\n",
       "Category                  object\n",
       "Value                     object\n",
       "Question                  object\n",
       "Answer                    object\n",
       "clean_question            object\n",
       "clean_answer              object\n",
       "clean_value                int64\n",
       "dtype: object"
      ]
     },
     "execution_count": 16,
     "metadata": {},
     "output_type": "execute_result"
    }
   ],
   "source": [
    "jeopardy.dtypes"
   ]
  },
  {
   "cell_type": "markdown",
   "metadata": {},
   "source": [
    "# 4.- Answers in questions.\n",
    "\n",
    "Answer the following questions: \n",
    "* How often the answer is deducible from the question?\n",
    "* How often new questions are repeats of older questions?"
   ]
  },
  {
   "cell_type": "code",
   "execution_count": 17,
   "metadata": {
    "collapsed": true
   },
   "outputs": [],
   "source": [
    "def answer_questions(series):\n",
    "    split_answer = series[\"clean_answer\"].split()\n",
    "    split_question = series[\"clean_question\"].split()\n",
    "    match_count = 0\n",
    "    split_answer = [item for item in split_answer if item != \"the\"]\n",
    "    if len(split_answer) == 0:\n",
    "        return 0\n",
    "    \n",
    "    for item in split_answer:\n",
    "        if item in split_question:\n",
    "            match_count += 1\n",
    "    return match_count / len(split_answer)       \n",
    "\n",
    "jeopardy[\"answer_in_question\"] = jeopardy.apply(answer_questions, axis = 1)"
   ]
  },
  {
   "cell_type": "code",
   "execution_count": 18,
   "metadata": {
    "collapsed": false
   },
   "outputs": [
    {
     "data": {
      "text/plain": [
       "0.05834744478926688"
      ]
     },
     "execution_count": 18,
     "metadata": {},
     "output_type": "execute_result"
    }
   ],
   "source": [
    "jeopardy[\"answer_in_question\"].mean()"
   ]
  },
  {
   "cell_type": "markdown",
   "metadata": {},
   "source": [
    "This is dataquest's answer:\n",
    "```python\n",
    "def count_matches(row):\n",
    "    split_answer = row[\"clean_answer\"].split(\" \")\n",
    "    split_question = row[\"clean_question\"].split(\" \")\n",
    "    if \"the\" in split_answer:\n",
    "        split_answer.remove(\"the\")\n",
    "    if len(split_answer) == 0:\n",
    "        return 0\n",
    "    match_count = 0\n",
    "    for item in split_answer:\n",
    "        if item in split_question:\n",
    "            match_count += 1\n",
    "    return match_count / len(split_answer)\n",
    "\n",
    "jeopardy[\"answer_in_question\"] = jeopardy.apply(count_matches, axis=1)\n",
    "jeopardy[\"answer_in_question\"].mean()\n",
    "```\n",
    "\n",
    "They're not considering removing multiple instances of `\"the\"`. Even so, the difference between values is less than 0.002."
   ]
  },
  {
   "cell_type": "code",
   "execution_count": 19,
   "metadata": {
    "collapsed": false
   },
   "outputs": [
    {
     "data": {
      "text/plain": [
       "0.0021458122800689927"
      ]
     },
     "execution_count": 19,
     "metadata": {},
     "output_type": "execute_result"
    }
   ],
   "source": [
    "0.060493257069335872 - 0.05834744478926688"
   ]
  },
  {
   "cell_type": "markdown",
   "metadata": {},
   "source": [
    "The answer is only deducible 6% of the time from the question, which is good indicator that I would need to study harder to win Jeopardy and not try to deduce anything."
   ]
  },
  {
   "cell_type": "markdown",
   "metadata": {},
   "source": [
    "# 5.- Recycled Questions.\n",
    "\n",
    "Answer the remaining question: \n",
    "\n",
    "* How often new questions are repeats of older questions?"
   ]
  },
  {
   "cell_type": "code",
   "execution_count": 20,
   "metadata": {
    "collapsed": false
   },
   "outputs": [
    {
     "data": {
      "text/plain": [
       "0.6908737315671962"
      ]
     },
     "execution_count": 20,
     "metadata": {},
     "output_type": "execute_result"
    }
   ],
   "source": [
    "question_overlap = []\n",
    "terms_used = set()\n",
    "for i, row in jeopardy.iterrows():\n",
    "    split_question = row[\"clean_question\"].split(\" \")\n",
    "    split_question = [item for item in split_question if len(item) > 5]\n",
    "    match_count = 0\n",
    "    for word in split_question:\n",
    "        if word in terms_used:\n",
    "            match_count += 1\n",
    "    for word in split_question:\n",
    "        terms_used.add(word)\n",
    "    if len(split_question) > 0:\n",
    "        match_count /= len(split_question)\n",
    "    question_overlap.append(match_count)\n",
    "jeopardy[\"question_overlap\"] = question_overlap\n",
    "\n",
    "jeopardy[\"question_overlap\"].mean()\n",
    "    "
   ]
  },
  {
   "cell_type": "markdown",
   "metadata": {},
   "source": [
    "It seems that words are repeated 70% of the time, but I would need to investigate further, as this may be because of other unknown issues and not necessarily that Jeopardy recycles questions."
   ]
  },
  {
   "cell_type": "markdown",
   "metadata": {},
   "source": [
    "# 6.- Low value vs high value questions.\n",
    "\n",
    "Do the same analysis as before, but narrow questions into two categories:\n",
    "\n",
    "* Low value -- Any row where `Value` is less than `800`.\n",
    "* High vale -- Any row where `Value` is greather than `800`."
   ]
  },
  {
   "cell_type": "code",
   "execution_count": 21,
   "metadata": {
    "collapsed": true
   },
   "outputs": [],
   "source": [
    "def high_or_low(row):\n",
    "    if row[\"clean_value\"] > 800:\n",
    "        value = 1\n",
    "    else:\n",
    "        value = 0\n",
    "    return value\n",
    "\n",
    "jeopardy[\"high_value\"] = jeopardy.apply(high_or_low, axis = 1)"
   ]
  },
  {
   "cell_type": "code",
   "execution_count": 22,
   "metadata": {
    "collapsed": false
   },
   "outputs": [
    {
     "data": {
      "text/plain": [
       "0    14265\n",
       "1     5734\n",
       "Name: high_value, dtype: int64"
      ]
     },
     "execution_count": 22,
     "metadata": {},
     "output_type": "execute_result"
    }
   ],
   "source": [
    "jeopardy[\"high_value\"].value_counts()"
   ]
  },
  {
   "cell_type": "code",
   "execution_count": 23,
   "metadata": {
    "collapsed": true
   },
   "outputs": [],
   "source": [
    "def term_counter(words):\n",
    "    low_count = 0\n",
    "    high_count = 0\n",
    "    \n",
    "    for i, row in jeopardy.iterrows():\n",
    "        split_question = row[\"clean_question\"].split(\" \")\n",
    "        if words in split_question:\n",
    "            if row[\"high_value\"] == 1:\n",
    "                high_count += 1\n",
    "            else:\n",
    "                low_count += 1\n",
    "    return high_count, low_count\n",
    "\n",
    "observed_expected = []\n",
    "\n",
    "comparison_terms = list(terms_used)[:5]\n",
    "\n",
    "for i in comparison_terms:\n",
    "    observed_expected.append(term_counter(i))        "
   ]
  },
  {
   "cell_type": "code",
   "execution_count": 24,
   "metadata": {
    "collapsed": false,
    "scrolled": false
   },
   "outputs": [
    {
     "data": {
      "text/plain": [
       "[(1, 1), (0, 1), (1, 0), (2, 5), (1, 0)]"
      ]
     },
     "execution_count": 24,
     "metadata": {},
     "output_type": "execute_result"
    }
   ],
   "source": [
    "observed_expected"
   ]
  },
  {
   "cell_type": "markdown",
   "metadata": {},
   "source": [
    "Why does this answer change everytime I run the code?\n",
    "\n",
    "It seems the reason is that it converts a set to a list, and this is randomized because sets do not follow an order.\n",
    "\n",
    "The last time it gave me this:\n",
    "\n",
    "[(0, 1), (1, 1), (0, 1), (0, 2), (0, 1)]"
   ]
  },
  {
   "cell_type": "markdown",
   "metadata": {},
   "source": [
    "# 7.- Chi-squared test\n",
    "\n",
    "Use `scipy.stats.chisquare` to compute the chi-squared value and p-value."
   ]
  },
  {
   "cell_type": "code",
   "execution_count": 45,
   "metadata": {
    "collapsed": true
   },
   "outputs": [],
   "source": [
    "import numpy as np\n",
    "from scipy.stats import chisquare"
   ]
  },
  {
   "cell_type": "code",
   "execution_count": 41,
   "metadata": {
    "collapsed": false
   },
   "outputs": [
    {
     "name": "stdout",
     "output_type": "stream",
     "text": [
      "14265 5734\n"
     ]
    }
   ],
   "source": [
    "# When I wrote the following code... it dawned on me.\n",
    "low_value_count, high_value_count = jeopardy[\"high_value\"].value_counts()\n",
    "print(low_value_count, high_value_count)"
   ]
  },
  {
   "cell_type": "code",
   "execution_count": 49,
   "metadata": {
    "collapsed": false
   },
   "outputs": [],
   "source": [
    "chi_squared = []\n",
    "\n",
    "for i in observed_expected:\n",
    "    total = sum(i)\n",
    "    total_prop = total / jeopardy.shape[0]\n",
    "    expected_high = total_prop * high_value_count\n",
    "    expected_low = total_prop * low_value_count\n",
    "    \n",
    "    observed = np.array([i[0],i[1]])\n",
    "    expected = np.array([expected_high, expected_low])\n",
    "    s, p = chisquare(observed, expected)\n",
    "    chi_squared.append((s,p))   "
   ]
  },
  {
   "cell_type": "code",
   "execution_count": 50,
   "metadata": {
    "collapsed": false
   },
   "outputs": [
    {
     "data": {
      "text/plain": [
       "[(0.4448774816612795, 0.5047776487545996),\n",
       " (0.401962846126884, 0.5260772985705469),\n",
       " (2.487792117195675, 0.11473257634454047),\n",
       " (3.423170782846152e-05, 0.9953317740648371),\n",
       " (2.487792117195675, 0.11473257634454047)]"
      ]
     },
     "execution_count": 50,
     "metadata": {},
     "output_type": "execute_result"
    }
   ],
   "source": [
    "chi_squared"
   ]
  },
  {
   "cell_type": "markdown",
   "metadata": {},
   "source": [
    "All test results are below 5, so I would state that it was not successful. It's interesting that two values had the exact same result."
   ]
  },
  {
   "cell_type": "markdown",
   "metadata": {},
   "source": [
    "# 8.- Next steps.\n",
    "\n",
    "* Find a better way to eliminate non-informative words than just removing words that are less than 6 characters long. Such as:\n",
    "    * Manually create a list of words to remove.\n",
    "    * Find a list of stopwords to remove.\n",
    "    * Remove words that occur in mnore than a cestain percentage of questions.\n",
    "* Perform the chi-squared test across more terms to see what terms have larger differences. Code is slow but here are some ideas:\n",
    "    * Use apply method to make code that calculates frequencies more efficient.\n",
    "    * Only select terms that have high frequencies.\n",
    "* Look more into the `Category` column and see if any interesting analysis can be done with it.:\n",
    "    * See which categories appear the most often.\n",
    "    * Find the probability of each category appearing in each round.\n",
    "* Use the whole Jeopady dataset istead of the subsed used.\n",
    "* Use phrases instead of single words when seeing if there's overlap between questions."
   ]
  },
  {
   "cell_type": "markdown",
   "metadata": {},
   "source": [
    "To be continued..."
   ]
  }
 ],
 "metadata": {
  "kernelspec": {
   "display_name": "Python 3",
   "language": "python",
   "name": "python3"
  },
  "language_info": {
   "codemirror_mode": {
    "name": "ipython",
    "version": 3
   },
   "file_extension": ".py",
   "mimetype": "text/x-python",
   "name": "python",
   "nbconvert_exporter": "python",
   "pygments_lexer": "ipython3",
   "version": "3.4.3"
  }
 },
 "nbformat": 4,
 "nbformat_minor": 0
}
